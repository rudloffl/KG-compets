{
 "cells": [
  {
   "cell_type": "code",
   "execution_count": 1,
   "metadata": {},
   "outputs": [],
   "source": [
    "import numpy as np\n",
    "import pandas as pd\n",
    "import matplotlib.pyplot as plt"
   ]
  },
  {
   "cell_type": "code",
   "execution_count": 2,
   "metadata": {},
   "outputs": [
    {
     "data": {
      "text/plain": [
       "(4459, 4992)"
      ]
     },
     "execution_count": 2,
     "metadata": {},
     "output_type": "execute_result"
    }
   ],
   "source": [
    "train = pd.read_csv('./data/train.csv', index_col='ID')\n",
    "train.shape"
   ]
  },
  {
   "cell_type": "code",
   "execution_count": 3,
   "metadata": {},
   "outputs": [
    {
     "data": {
      "text/plain": [
       "(49342, 4991)"
      ]
     },
     "execution_count": 3,
     "metadata": {},
     "output_type": "execute_result"
    }
   ],
   "source": [
    "test = pd.read_csv('./data/test.csv', index_col='ID')\n",
    "test.shape"
   ]
  },
  {
   "cell_type": "code",
   "execution_count": 4,
   "metadata": {},
   "outputs": [
    {
     "data": {
      "text/html": [
       "<div>\n",
       "<style scoped>\n",
       "    .dataframe tbody tr th:only-of-type {\n",
       "        vertical-align: middle;\n",
       "    }\n",
       "\n",
       "    .dataframe tbody tr th {\n",
       "        vertical-align: top;\n",
       "    }\n",
       "\n",
       "    .dataframe thead th {\n",
       "        text-align: right;\n",
       "    }\n",
       "</style>\n",
       "<table border=\"1\" class=\"dataframe\">\n",
       "  <thead>\n",
       "    <tr style=\"text-align: right;\">\n",
       "      <th></th>\n",
       "      <th>columns</th>\n",
       "      <th>count</th>\n",
       "      <th>mean</th>\n",
       "      <th>std</th>\n",
       "      <th>min</th>\n",
       "      <th>25%</th>\n",
       "      <th>50%</th>\n",
       "      <th>75%</th>\n",
       "      <th>max</th>\n",
       "      <th>target_corr</th>\n",
       "      <th>distinct_counts</th>\n",
       "      <th>skew</th>\n",
       "      <th>range</th>\n",
       "    </tr>\n",
       "  </thead>\n",
       "  <tbody>\n",
       "    <tr>\n",
       "      <th>0</th>\n",
       "      <td>target</td>\n",
       "      <td>4459.0</td>\n",
       "      <td>5.944923e+06</td>\n",
       "      <td>8.234312e+06</td>\n",
       "      <td>30000.0</td>\n",
       "      <td>600000.0</td>\n",
       "      <td>2260000.0</td>\n",
       "      <td>8000000.0</td>\n",
       "      <td>40000000.0</td>\n",
       "      <td>1.000000</td>\n",
       "      <td>1413</td>\n",
       "      <td>2.085967</td>\n",
       "      <td>39970000.0</td>\n",
       "    </tr>\n",
       "    <tr>\n",
       "      <th>1</th>\n",
       "      <td>48df886f9</td>\n",
       "      <td>4459.0</td>\n",
       "      <td>1.465493e+04</td>\n",
       "      <td>3.893298e+05</td>\n",
       "      <td>0.0</td>\n",
       "      <td>0.0</td>\n",
       "      <td>0.0</td>\n",
       "      <td>0.0</td>\n",
       "      <td>20000000.0</td>\n",
       "      <td>0.010188</td>\n",
       "      <td>32</td>\n",
       "      <td>39.206027</td>\n",
       "      <td>20000000.0</td>\n",
       "    </tr>\n",
       "    <tr>\n",
       "      <th>2</th>\n",
       "      <td>0deb4b6a8</td>\n",
       "      <td>4459.0</td>\n",
       "      <td>1.390895e+03</td>\n",
       "      <td>6.428302e+04</td>\n",
       "      <td>0.0</td>\n",
       "      <td>0.0</td>\n",
       "      <td>0.0</td>\n",
       "      <td>0.0</td>\n",
       "      <td>4000000.0</td>\n",
       "      <td>0.013805</td>\n",
       "      <td>5</td>\n",
       "      <td>56.293867</td>\n",
       "      <td>4000000.0</td>\n",
       "    </tr>\n",
       "    <tr>\n",
       "      <th>3</th>\n",
       "      <td>34b15f335</td>\n",
       "      <td>4459.0</td>\n",
       "      <td>2.672245e+04</td>\n",
       "      <td>5.699652e+05</td>\n",
       "      <td>0.0</td>\n",
       "      <td>0.0</td>\n",
       "      <td>0.0</td>\n",
       "      <td>0.0</td>\n",
       "      <td>20000000.0</td>\n",
       "      <td>0.014694</td>\n",
       "      <td>29</td>\n",
       "      <td>29.161984</td>\n",
       "      <td>20000000.0</td>\n",
       "    </tr>\n",
       "    <tr>\n",
       "      <th>4</th>\n",
       "      <td>a8cb14b00</td>\n",
       "      <td>4459.0</td>\n",
       "      <td>4.530164e+03</td>\n",
       "      <td>2.359124e+05</td>\n",
       "      <td>0.0</td>\n",
       "      <td>0.0</td>\n",
       "      <td>0.0</td>\n",
       "      <td>0.0</td>\n",
       "      <td>14800000.0</td>\n",
       "      <td>-0.002917</td>\n",
       "      <td>3</td>\n",
       "      <td>58.043719</td>\n",
       "      <td>14800000.0</td>\n",
       "    </tr>\n",
       "  </tbody>\n",
       "</table>\n",
       "</div>"
      ],
      "text/plain": [
       "     columns   count          mean           std      min       25%  \\\n",
       "0     target  4459.0  5.944923e+06  8.234312e+06  30000.0  600000.0   \n",
       "1  48df886f9  4459.0  1.465493e+04  3.893298e+05      0.0       0.0   \n",
       "2  0deb4b6a8  4459.0  1.390895e+03  6.428302e+04      0.0       0.0   \n",
       "3  34b15f335  4459.0  2.672245e+04  5.699652e+05      0.0       0.0   \n",
       "4  a8cb14b00  4459.0  4.530164e+03  2.359124e+05      0.0       0.0   \n",
       "\n",
       "         50%        75%         max  target_corr  distinct_counts       skew  \\\n",
       "0  2260000.0  8000000.0  40000000.0     1.000000             1413   2.085967   \n",
       "1        0.0        0.0  20000000.0     0.010188               32  39.206027   \n",
       "2        0.0        0.0   4000000.0     0.013805                5  56.293867   \n",
       "3        0.0        0.0  20000000.0     0.014694               29  29.161984   \n",
       "4        0.0        0.0  14800000.0    -0.002917                3  58.043719   \n",
       "\n",
       "        range  \n",
       "0  39970000.0  \n",
       "1  20000000.0  \n",
       "2   4000000.0  \n",
       "3  20000000.0  \n",
       "4  14800000.0  "
      ]
     },
     "execution_count": 4,
     "metadata": {},
     "output_type": "execute_result"
    }
   ],
   "source": [
    "def describeplus(dataset, target='target'):\n",
    "    df = dataset.describe().T\n",
    "    df = df.reset_index().rename(columns = {'index' : 'columns'})\n",
    "    ## Correlation to the target\n",
    "    df['target_corr'] = df['columns'].apply(lambda x : np.corrcoef(dataset[target], dataset[x])[0][1])\n",
    "    ## distinct counts\n",
    "    df['distinct_counts'] = df['columns'].apply(lambda x : len(dataset[x].value_counts()))\n",
    "    ## skew\n",
    "    df['skew'] = df['columns'].apply(lambda x : dataset[x].skew())\n",
    "    \n",
    "    ## data range\n",
    "    df['range'] = df['columns'].apply(lambda x : dataset[x].max() - dataset[x].min())\n",
    "    return df\n",
    "\n",
    "df = describeplus(train)\n",
    "df.head()"
   ]
  },
  {
   "cell_type": "code",
   "execution_count": 5,
   "metadata": {},
   "outputs": [
    {
     "data": {
      "image/png": "[encoded data removed]",
      "text/plain": [
       "<Figure size 432x288 with 1 Axes>"
      ]
     },
     "metadata": {},
     "output_type": "display_data"
    }
   ],
   "source": [
    "df['target_corr'].plot.hist(bins=50)\n",
    "plt.title('target correlation ratio')\n",
    "plt.xlabel('ratio')\n",
    "plt.ylabel('count')\n",
    "plt.show()"
   ]
  },
  {
   "cell_type": "code",
   "execution_count": 6,
   "metadata": {},
   "outputs": [
    {
     "data": {
      "text/html": [
       "<div>\n",
       "<style scoped>\n",
       "    .dataframe tbody tr th:only-of-type {\n",
       "        vertical-align: middle;\n",
       "    }\n",
       "\n",
       "    .dataframe tbody tr th {\n",
       "        vertical-align: top;\n",
       "    }\n",
       "\n",
       "    .dataframe thead th {\n",
       "        text-align: right;\n",
       "    }\n",
       "</style>\n",
       "<table border=\"1\" class=\"dataframe\">\n",
       "  <thead>\n",
       "    <tr style=\"text-align: right;\">\n",
       "      <th></th>\n",
       "      <th>skew</th>\n",
       "    </tr>\n",
       "  </thead>\n",
       "  <tbody>\n",
       "    <tr>\n",
       "      <th>count</th>\n",
       "      <td>4992.000000</td>\n",
       "    </tr>\n",
       "    <tr>\n",
       "      <th>mean</th>\n",
       "      <td>30.647812</td>\n",
       "    </tr>\n",
       "    <tr>\n",
       "      <th>std</th>\n",
       "      <td>18.749030</td>\n",
       "    </tr>\n",
       "    <tr>\n",
       "      <th>min</th>\n",
       "      <td>0.000000</td>\n",
       "    </tr>\n",
       "    <tr>\n",
       "      <th>25%</th>\n",
       "      <td>16.681499</td>\n",
       "    </tr>\n",
       "    <tr>\n",
       "      <th>50%</th>\n",
       "      <td>25.963796</td>\n",
       "    </tr>\n",
       "    <tr>\n",
       "      <th>75%</th>\n",
       "      <td>44.103054</td>\n",
       "    </tr>\n",
       "    <tr>\n",
       "      <th>max</th>\n",
       "      <td>66.775744</td>\n",
       "    </tr>\n",
       "  </tbody>\n",
       "</table>\n",
       "</div>"
      ],
      "text/plain": [
       "              skew\n",
       "count  4992.000000\n",
       "mean     30.647812\n",
       "std      18.749030\n",
       "min       0.000000\n",
       "25%      16.681499\n",
       "50%      25.963796\n",
       "75%      44.103054\n",
       "max      66.775744"
      ]
     },
     "execution_count": 6,
     "metadata": {},
     "output_type": "execute_result"
    }
   ],
   "source": [
    "df[['skew']].describe()"
   ]
  },
  {
   "cell_type": "code",
   "execution_count": 7,
   "metadata": {},
   "outputs": [
    {
     "data": {
      "text/plain": [
       "Text(0,0.5,'target correlation ratio')"
      ]
     },
     "execution_count": 7,
     "metadata": {},
     "output_type": "execute_result"
    },
    {
     "data": {
      "image/png": "[encoded data removed]",
      "text/plain": [
       "<Figure size 432x288 with 1 Axes>"
      ]
     },
     "metadata": {},
     "output_type": "display_data"
    }
   ],
   "source": [
    "#df['distinct_counts'].plot.hist(bins=50)\n",
    "plt.scatter(x=df['distinct_counts'], y=df['target_corr'])\n",
    "plt.xlabel('Distinct count')\n",
    "plt.ylabel('target correlation ratio')"
   ]
  },
  {
   "cell_type": "code",
   "execution_count": 8,
   "metadata": {},
   "outputs": [
    {
     "data": {
      "text/plain": [
       "(1837, 13)"
      ]
     },
     "execution_count": 8,
     "metadata": {},
     "output_type": "execute_result"
    },
    {
     "data": {
      "image/png": "[encoded data removed]",
      "text/plain": [
       "<Figure size 432x288 with 1 Axes>"
      ]
     },
     "metadata": {},
     "output_type": "display_data"
    }
   ],
   "source": [
    "subset = df[df['distinct_counts'] <=20]\n",
    "plt.scatter(x=subset['distinct_counts'], y=subset['target_corr'])\n",
    "plt.xlabel('Distinct count')\n",
    "plt.ylabel('target correlation ratio')\n",
    "subset.shape"
   ]
  },
  {
   "cell_type": "code",
   "execution_count": null,
   "metadata": {},
   "outputs": [],
   "source": []
  },
  {
   "cell_type": "code",
   "execution_count": null,
   "metadata": {},
   "outputs": [],
   "source": []
  },
  {
   "cell_type": "code",
   "execution_count": 9,
   "metadata": {},
   "outputs": [
    {
     "data": {
      "text/html": [
       "<div>\n",
       "<style scoped>\n",
       "    .dataframe tbody tr th:only-of-type {\n",
       "        vertical-align: middle;\n",
       "    }\n",
       "\n",
       "    .dataframe tbody tr th {\n",
       "        vertical-align: top;\n",
       "    }\n",
       "\n",
       "    .dataframe thead th {\n",
       "        text-align: right;\n",
       "    }\n",
       "</style>\n",
       "<table border=\"1\" class=\"dataframe\">\n",
       "  <thead>\n",
       "    <tr style=\"text-align: right;\">\n",
       "      <th></th>\n",
       "      <th>target</th>\n",
       "      <th>48df886f9</th>\n",
       "      <th>0deb4b6a8</th>\n",
       "      <th>34b15f335</th>\n",
       "      <th>a8cb14b00</th>\n",
       "      <th>2f0771a37</th>\n",
       "      <th>30347e683</th>\n",
       "      <th>d08d1fbe3</th>\n",
       "      <th>6ee66e115</th>\n",
       "      <th>20aa07010</th>\n",
       "      <th>...</th>\n",
       "      <th>3ecc09859</th>\n",
       "      <th>9281abeea</th>\n",
       "      <th>8675bec0b</th>\n",
       "      <th>3a13ed79a</th>\n",
       "      <th>f677d4d13</th>\n",
       "      <th>71b203550</th>\n",
       "      <th>137efaa80</th>\n",
       "      <th>fb36b89d9</th>\n",
       "      <th>7e293fbaf</th>\n",
       "      <th>9fc776466</th>\n",
       "    </tr>\n",
       "    <tr>\n",
       "      <th>ID</th>\n",
       "      <th></th>\n",
       "      <th></th>\n",
       "      <th></th>\n",
       "      <th></th>\n",
       "      <th></th>\n",
       "      <th></th>\n",
       "      <th></th>\n",
       "      <th></th>\n",
       "      <th></th>\n",
       "      <th></th>\n",
       "      <th></th>\n",
       "      <th></th>\n",
       "      <th></th>\n",
       "      <th></th>\n",
       "      <th></th>\n",
       "      <th></th>\n",
       "      <th></th>\n",
       "      <th></th>\n",
       "      <th></th>\n",
       "      <th></th>\n",
       "      <th></th>\n",
       "    </tr>\n",
       "  </thead>\n",
       "  <tbody>\n",
       "    <tr>\n",
       "      <th>000d6aaf2</th>\n",
       "      <td>38000000.0</td>\n",
       "      <td>0.0</td>\n",
       "      <td>0</td>\n",
       "      <td>0.0</td>\n",
       "      <td>0</td>\n",
       "      <td>0</td>\n",
       "      <td>0</td>\n",
       "      <td>0</td>\n",
       "      <td>0</td>\n",
       "      <td>0.0</td>\n",
       "      <td>...</td>\n",
       "      <td>0.0</td>\n",
       "      <td>0.0</td>\n",
       "      <td>0.0</td>\n",
       "      <td>0</td>\n",
       "      <td>0</td>\n",
       "      <td>0</td>\n",
       "      <td>0</td>\n",
       "      <td>0</td>\n",
       "      <td>0</td>\n",
       "      <td>0</td>\n",
       "    </tr>\n",
       "    <tr>\n",
       "      <th>000fbd867</th>\n",
       "      <td>600000.0</td>\n",
       "      <td>0.0</td>\n",
       "      <td>0</td>\n",
       "      <td>0.0</td>\n",
       "      <td>0</td>\n",
       "      <td>0</td>\n",
       "      <td>0</td>\n",
       "      <td>0</td>\n",
       "      <td>0</td>\n",
       "      <td>2200000.0</td>\n",
       "      <td>...</td>\n",
       "      <td>0.0</td>\n",
       "      <td>0.0</td>\n",
       "      <td>0.0</td>\n",
       "      <td>0</td>\n",
       "      <td>0</td>\n",
       "      <td>0</td>\n",
       "      <td>0</td>\n",
       "      <td>0</td>\n",
       "      <td>0</td>\n",
       "      <td>0</td>\n",
       "    </tr>\n",
       "    <tr>\n",
       "      <th>0027d6b71</th>\n",
       "      <td>10000000.0</td>\n",
       "      <td>0.0</td>\n",
       "      <td>0</td>\n",
       "      <td>0.0</td>\n",
       "      <td>0</td>\n",
       "      <td>0</td>\n",
       "      <td>0</td>\n",
       "      <td>0</td>\n",
       "      <td>0</td>\n",
       "      <td>0.0</td>\n",
       "      <td>...</td>\n",
       "      <td>0.0</td>\n",
       "      <td>0.0</td>\n",
       "      <td>0.0</td>\n",
       "      <td>0</td>\n",
       "      <td>0</td>\n",
       "      <td>0</td>\n",
       "      <td>0</td>\n",
       "      <td>0</td>\n",
       "      <td>0</td>\n",
       "      <td>0</td>\n",
       "    </tr>\n",
       "    <tr>\n",
       "      <th>0028cbf45</th>\n",
       "      <td>2000000.0</td>\n",
       "      <td>0.0</td>\n",
       "      <td>0</td>\n",
       "      <td>0.0</td>\n",
       "      <td>0</td>\n",
       "      <td>0</td>\n",
       "      <td>0</td>\n",
       "      <td>0</td>\n",
       "      <td>0</td>\n",
       "      <td>0.0</td>\n",
       "      <td>...</td>\n",
       "      <td>0.0</td>\n",
       "      <td>0.0</td>\n",
       "      <td>0.0</td>\n",
       "      <td>0</td>\n",
       "      <td>0</td>\n",
       "      <td>0</td>\n",
       "      <td>0</td>\n",
       "      <td>0</td>\n",
       "      <td>0</td>\n",
       "      <td>0</td>\n",
       "    </tr>\n",
       "    <tr>\n",
       "      <th>002a68644</th>\n",
       "      <td>14400000.0</td>\n",
       "      <td>0.0</td>\n",
       "      <td>0</td>\n",
       "      <td>0.0</td>\n",
       "      <td>0</td>\n",
       "      <td>0</td>\n",
       "      <td>0</td>\n",
       "      <td>0</td>\n",
       "      <td>0</td>\n",
       "      <td>2000000.0</td>\n",
       "      <td>...</td>\n",
       "      <td>0.0</td>\n",
       "      <td>0.0</td>\n",
       "      <td>0.0</td>\n",
       "      <td>0</td>\n",
       "      <td>0</td>\n",
       "      <td>0</td>\n",
       "      <td>0</td>\n",
       "      <td>0</td>\n",
       "      <td>0</td>\n",
       "      <td>0</td>\n",
       "    </tr>\n",
       "  </tbody>\n",
       "</table>\n",
       "<p>5 rows × 4992 columns</p>\n",
       "</div>"
      ],
      "text/plain": [
       "               target  48df886f9  0deb4b6a8  34b15f335  a8cb14b00  2f0771a37  \\\n",
       "ID                                                                             \n",
       "000d6aaf2  38000000.0        0.0          0        0.0          0          0   \n",
       "000fbd867    600000.0        0.0          0        0.0          0          0   \n",
       "0027d6b71  10000000.0        0.0          0        0.0          0          0   \n",
       "0028cbf45   2000000.0        0.0          0        0.0          0          0   \n",
       "002a68644  14400000.0        0.0          0        0.0          0          0   \n",
       "\n",
       "           30347e683  d08d1fbe3  6ee66e115  20aa07010    ...      3ecc09859  \\\n",
       "ID                                                       ...                  \n",
       "000d6aaf2          0          0          0        0.0    ...            0.0   \n",
       "000fbd867          0          0          0  2200000.0    ...            0.0   \n",
       "0027d6b71          0          0          0        0.0    ...            0.0   \n",
       "0028cbf45          0          0          0        0.0    ...            0.0   \n",
       "002a68644          0          0          0  2000000.0    ...            0.0   \n",
       "\n",
       "           9281abeea  8675bec0b  3a13ed79a  f677d4d13  71b203550  137efaa80  \\\n",
       "ID                                                                            \n",
       "000d6aaf2        0.0        0.0          0          0          0          0   \n",
       "000fbd867        0.0        0.0          0          0          0          0   \n",
       "0027d6b71        0.0        0.0          0          0          0          0   \n",
       "0028cbf45        0.0        0.0          0          0          0          0   \n",
       "002a68644        0.0        0.0          0          0          0          0   \n",
       "\n",
       "           fb36b89d9  7e293fbaf  9fc776466  \n",
       "ID                                          \n",
       "000d6aaf2          0          0          0  \n",
       "000fbd867          0          0          0  \n",
       "0027d6b71          0          0          0  \n",
       "0028cbf45          0          0          0  \n",
       "002a68644          0          0          0  \n",
       "\n",
       "[5 rows x 4992 columns]"
      ]
     },
     "execution_count": 9,
     "metadata": {},
     "output_type": "execute_result"
    }
   ],
   "source": [
    "train.head()"
   ]
  },
  {
   "cell_type": "code",
   "execution_count": 10,
   "metadata": {},
   "outputs": [],
   "source": [
    "from scipy.special import inv_boxcox\n",
    "from scipy import stats"
   ]
  },
  {
   "cell_type": "code",
   "execution_count": 54,
   "metadata": {},
   "outputs": [
    {
     "data": {
      "text/plain": [
       "(4459, 4991)"
      ]
     },
     "execution_count": 54,
     "metadata": {},
     "output_type": "execute_result"
    }
   ],
   "source": [
    "# Matrix definition\n",
    "cols = [x for x in train.columns if x != 'target']\n",
    "Xtrain = train[cols]\n",
    "Xtest  = test[cols]\n",
    "ynormal =train['target']\n",
    "ybc, lmbda = stats.boxcox(train['target'])\n",
    "Xtrain.shape"
   ]
  },
  {
   "cell_type": "code",
   "execution_count": 55,
   "metadata": {},
   "outputs": [],
   "source": [
    "#Decides if BOXCOX or not\n",
    "y = ybc #ynormal"
   ]
  },
  {
   "cell_type": "code",
   "execution_count": 12,
   "metadata": {},
   "outputs": [
    {
     "data": {
      "text/html": [
       "<div>\n",
       "<style scoped>\n",
       "    .dataframe tbody tr th:only-of-type {\n",
       "        vertical-align: middle;\n",
       "    }\n",
       "\n",
       "    .dataframe tbody tr th {\n",
       "        vertical-align: top;\n",
       "    }\n",
       "\n",
       "    .dataframe thead th {\n",
       "        text-align: right;\n",
       "    }\n",
       "</style>\n",
       "<table border=\"1\" class=\"dataframe\">\n",
       "  <thead>\n",
       "    <tr style=\"text-align: right;\">\n",
       "      <th></th>\n",
       "      <th>48df886f9</th>\n",
       "      <th>0deb4b6a8</th>\n",
       "      <th>34b15f335</th>\n",
       "      <th>a8cb14b00</th>\n",
       "      <th>2f0771a37</th>\n",
       "      <th>30347e683</th>\n",
       "      <th>d08d1fbe3</th>\n",
       "      <th>6ee66e115</th>\n",
       "      <th>20aa07010</th>\n",
       "      <th>dc5a8f1d8</th>\n",
       "      <th>...</th>\n",
       "      <th>3ecc09859</th>\n",
       "      <th>9281abeea</th>\n",
       "      <th>8675bec0b</th>\n",
       "      <th>3a13ed79a</th>\n",
       "      <th>f677d4d13</th>\n",
       "      <th>71b203550</th>\n",
       "      <th>137efaa80</th>\n",
       "      <th>fb36b89d9</th>\n",
       "      <th>7e293fbaf</th>\n",
       "      <th>9fc776466</th>\n",
       "    </tr>\n",
       "    <tr>\n",
       "      <th>ID</th>\n",
       "      <th></th>\n",
       "      <th></th>\n",
       "      <th></th>\n",
       "      <th></th>\n",
       "      <th></th>\n",
       "      <th></th>\n",
       "      <th></th>\n",
       "      <th></th>\n",
       "      <th></th>\n",
       "      <th></th>\n",
       "      <th></th>\n",
       "      <th></th>\n",
       "      <th></th>\n",
       "      <th></th>\n",
       "      <th></th>\n",
       "      <th></th>\n",
       "      <th></th>\n",
       "      <th></th>\n",
       "      <th></th>\n",
       "      <th></th>\n",
       "      <th></th>\n",
       "    </tr>\n",
       "  </thead>\n",
       "  <tbody>\n",
       "    <tr>\n",
       "      <th>000d6aaf2</th>\n",
       "      <td>0.0</td>\n",
       "      <td>0</td>\n",
       "      <td>0.0</td>\n",
       "      <td>0</td>\n",
       "      <td>0</td>\n",
       "      <td>0</td>\n",
       "      <td>0</td>\n",
       "      <td>0</td>\n",
       "      <td>0.0</td>\n",
       "      <td>0.0</td>\n",
       "      <td>...</td>\n",
       "      <td>0.0</td>\n",
       "      <td>0.0</td>\n",
       "      <td>0.0</td>\n",
       "      <td>0</td>\n",
       "      <td>0</td>\n",
       "      <td>0</td>\n",
       "      <td>0</td>\n",
       "      <td>0</td>\n",
       "      <td>0</td>\n",
       "      <td>0</td>\n",
       "    </tr>\n",
       "    <tr>\n",
       "      <th>000fbd867</th>\n",
       "      <td>0.0</td>\n",
       "      <td>0</td>\n",
       "      <td>0.0</td>\n",
       "      <td>0</td>\n",
       "      <td>0</td>\n",
       "      <td>0</td>\n",
       "      <td>0</td>\n",
       "      <td>0</td>\n",
       "      <td>2200000.0</td>\n",
       "      <td>0.0</td>\n",
       "      <td>...</td>\n",
       "      <td>0.0</td>\n",
       "      <td>0.0</td>\n",
       "      <td>0.0</td>\n",
       "      <td>0</td>\n",
       "      <td>0</td>\n",
       "      <td>0</td>\n",
       "      <td>0</td>\n",
       "      <td>0</td>\n",
       "      <td>0</td>\n",
       "      <td>0</td>\n",
       "    </tr>\n",
       "    <tr>\n",
       "      <th>0027d6b71</th>\n",
       "      <td>0.0</td>\n",
       "      <td>0</td>\n",
       "      <td>0.0</td>\n",
       "      <td>0</td>\n",
       "      <td>0</td>\n",
       "      <td>0</td>\n",
       "      <td>0</td>\n",
       "      <td>0</td>\n",
       "      <td>0.0</td>\n",
       "      <td>0.0</td>\n",
       "      <td>...</td>\n",
       "      <td>0.0</td>\n",
       "      <td>0.0</td>\n",
       "      <td>0.0</td>\n",
       "      <td>0</td>\n",
       "      <td>0</td>\n",
       "      <td>0</td>\n",
       "      <td>0</td>\n",
       "      <td>0</td>\n",
       "      <td>0</td>\n",
       "      <td>0</td>\n",
       "    </tr>\n",
       "    <tr>\n",
       "      <th>0028cbf45</th>\n",
       "      <td>0.0</td>\n",
       "      <td>0</td>\n",
       "      <td>0.0</td>\n",
       "      <td>0</td>\n",
       "      <td>0</td>\n",
       "      <td>0</td>\n",
       "      <td>0</td>\n",
       "      <td>0</td>\n",
       "      <td>0.0</td>\n",
       "      <td>0.0</td>\n",
       "      <td>...</td>\n",
       "      <td>0.0</td>\n",
       "      <td>0.0</td>\n",
       "      <td>0.0</td>\n",
       "      <td>0</td>\n",
       "      <td>0</td>\n",
       "      <td>0</td>\n",
       "      <td>0</td>\n",
       "      <td>0</td>\n",
       "      <td>0</td>\n",
       "      <td>0</td>\n",
       "    </tr>\n",
       "    <tr>\n",
       "      <th>002a68644</th>\n",
       "      <td>0.0</td>\n",
       "      <td>0</td>\n",
       "      <td>0.0</td>\n",
       "      <td>0</td>\n",
       "      <td>0</td>\n",
       "      <td>0</td>\n",
       "      <td>0</td>\n",
       "      <td>0</td>\n",
       "      <td>2000000.0</td>\n",
       "      <td>0.0</td>\n",
       "      <td>...</td>\n",
       "      <td>0.0</td>\n",
       "      <td>0.0</td>\n",
       "      <td>0.0</td>\n",
       "      <td>0</td>\n",
       "      <td>0</td>\n",
       "      <td>0</td>\n",
       "      <td>0</td>\n",
       "      <td>0</td>\n",
       "      <td>0</td>\n",
       "      <td>0</td>\n",
       "    </tr>\n",
       "  </tbody>\n",
       "</table>\n",
       "<p>5 rows × 4991 columns</p>\n",
       "</div>"
      ],
      "text/plain": [
       "           48df886f9  0deb4b6a8  34b15f335  a8cb14b00  2f0771a37  30347e683  \\\n",
       "ID                                                                            \n",
       "000d6aaf2        0.0          0        0.0          0          0          0   \n",
       "000fbd867        0.0          0        0.0          0          0          0   \n",
       "0027d6b71        0.0          0        0.0          0          0          0   \n",
       "0028cbf45        0.0          0        0.0          0          0          0   \n",
       "002a68644        0.0          0        0.0          0          0          0   \n",
       "\n",
       "           d08d1fbe3  6ee66e115  20aa07010  dc5a8f1d8    ...      3ecc09859  \\\n",
       "ID                                                       ...                  \n",
       "000d6aaf2          0          0        0.0        0.0    ...            0.0   \n",
       "000fbd867          0          0  2200000.0        0.0    ...            0.0   \n",
       "0027d6b71          0          0        0.0        0.0    ...            0.0   \n",
       "0028cbf45          0          0        0.0        0.0    ...            0.0   \n",
       "002a68644          0          0  2000000.0        0.0    ...            0.0   \n",
       "\n",
       "           9281abeea  8675bec0b  3a13ed79a  f677d4d13  71b203550  137efaa80  \\\n",
       "ID                                                                            \n",
       "000d6aaf2        0.0        0.0          0          0          0          0   \n",
       "000fbd867        0.0        0.0          0          0          0          0   \n",
       "0027d6b71        0.0        0.0          0          0          0          0   \n",
       "0028cbf45        0.0        0.0          0          0          0          0   \n",
       "002a68644        0.0        0.0          0          0          0          0   \n",
       "\n",
       "           fb36b89d9  7e293fbaf  9fc776466  \n",
       "ID                                          \n",
       "000d6aaf2          0          0          0  \n",
       "000fbd867          0          0          0  \n",
       "0027d6b71          0          0          0  \n",
       "0028cbf45          0          0          0  \n",
       "002a68644          0          0          0  \n",
       "\n",
       "[5 rows x 4991 columns]"
      ]
     },
     "execution_count": 12,
     "metadata": {},
     "output_type": "execute_result"
    }
   ],
   "source": [
    "Xtrain.head()"
   ]
  },
  {
   "cell_type": "markdown",
   "metadata": {},
   "source": [
    "# Pipe feature creation"
   ]
  },
  {
   "cell_type": "code",
   "execution_count": 13,
   "metadata": {},
   "outputs": [],
   "source": [
    "from sklearn.base import BaseEstimator, TransformerMixin"
   ]
  },
  {
   "cell_type": "code",
   "execution_count": 14,
   "metadata": {},
   "outputs": [
    {
     "data": {
      "text/plain": [
       "(4459, 3952)"
      ]
     },
     "execution_count": 14,
     "metadata": {},
     "output_type": "execute_result"
    }
   ],
   "source": [
    "class Cleanerplus(BaseEstimator, TransformerMixin):\n",
    "    \"\"\"Drops the not relevant features\"\"\"\n",
    "    def __init__(self, distinctmin=5, target='target'):\n",
    "        self.distinctmin = distinctmin\n",
    "        self.target = target\n",
    "        self.columns = []\n",
    "    \n",
    "    def fit(self, X, y=None):\n",
    "        df = pd.DataFrame({'columns':X.columns.values})\n",
    "        ## distinct counts\n",
    "        df['distinct_counts'] = df['columns'].apply(lambda x : len(X[x].value_counts()))\n",
    "        subset = df[df['distinct_counts'] > self.distinctmin]\n",
    "        #print(subsset[])\n",
    "        self.columns = subset['columns'].tolist()\n",
    "        \n",
    "        return self\n",
    "    \n",
    "    def transform(self, X, y=None):\n",
    "        return X[self.columns]\n",
    "        \n",
    "cleanerplus = Cleanerplus()\n",
    "Xclean = cleanerplus.fit_transform(Xtrain)\n",
    "Xtestclean = cleanerplus.transform(Xtest)\n",
    "Xclean.shape"
   ]
  },
  {
   "cell_type": "code",
   "execution_count": 15,
   "metadata": {},
   "outputs": [
    {
     "data": {
      "text/plain": [
       "(49342, 3952)"
      ]
     },
     "execution_count": 15,
     "metadata": {},
     "output_type": "execute_result"
    }
   ],
   "source": [
    "Xtestclean.shape"
   ]
  },
  {
   "cell_type": "code",
   "execution_count": 16,
   "metadata": {},
   "outputs": [
    {
     "name": "stdout",
     "output_type": "stream",
     "text": [
      "fit done\n"
     ]
    },
    {
     "data": {
      "text/html": [
       "<div>\n",
       "<style scoped>\n",
       "    .dataframe tbody tr th:only-of-type {\n",
       "        vertical-align: middle;\n",
       "    }\n",
       "\n",
       "    .dataframe tbody tr th {\n",
       "        vertical-align: top;\n",
       "    }\n",
       "\n",
       "    .dataframe thead th {\n",
       "        text-align: right;\n",
       "    }\n",
       "</style>\n",
       "<table border=\"1\" class=\"dataframe\">\n",
       "  <thead>\n",
       "    <tr style=\"text-align: right;\">\n",
       "      <th></th>\n",
       "      <th>48df886f9</th>\n",
       "      <th>34b15f335</th>\n",
       "      <th>2f0771a37</th>\n",
       "      <th>30347e683</th>\n",
       "      <th>d08d1fbe3</th>\n",
       "      <th>6ee66e115</th>\n",
       "      <th>20aa07010</th>\n",
       "      <th>dc5a8f1d8</th>\n",
       "      <th>11d86fa6a</th>\n",
       "      <th>8d6c2a0b2</th>\n",
       "      <th>...</th>\n",
       "      <th>71b203550</th>\n",
       "      <th>137efaa80</th>\n",
       "      <th>fb36b89d9</th>\n",
       "      <th>7e293fbaf</th>\n",
       "      <th>9fc776466</th>\n",
       "      <th>min</th>\n",
       "      <th>max</th>\n",
       "      <th>med</th>\n",
       "      <th>std</th>\n",
       "      <th>mean</th>\n",
       "    </tr>\n",
       "    <tr>\n",
       "      <th>ID</th>\n",
       "      <th></th>\n",
       "      <th></th>\n",
       "      <th></th>\n",
       "      <th></th>\n",
       "      <th></th>\n",
       "      <th></th>\n",
       "      <th></th>\n",
       "      <th></th>\n",
       "      <th></th>\n",
       "      <th></th>\n",
       "      <th></th>\n",
       "      <th></th>\n",
       "      <th></th>\n",
       "      <th></th>\n",
       "      <th></th>\n",
       "      <th></th>\n",
       "      <th></th>\n",
       "      <th></th>\n",
       "      <th></th>\n",
       "      <th></th>\n",
       "      <th></th>\n",
       "    </tr>\n",
       "  </thead>\n",
       "  <tbody>\n",
       "    <tr>\n",
       "      <th>000d6aaf2</th>\n",
       "      <td>-0.037646</td>\n",
       "      <td>-0.04689</td>\n",
       "      <td>-0.017437</td>\n",
       "      <td>-0.053221</td>\n",
       "      <td>-0.022451</td>\n",
       "      <td>-0.024846</td>\n",
       "      <td>-0.267393</td>\n",
       "      <td>-0.097765</td>\n",
       "      <td>-0.081369</td>\n",
       "      <td>-0.028876</td>\n",
       "      <td>...</td>\n",
       "      <td>-0.025715</td>\n",
       "      <td>-0.022134</td>\n",
       "      <td>-0.072342</td>\n",
       "      <td>-0.056363</td>\n",
       "      <td>-0.125852</td>\n",
       "      <td>-0.303641</td>\n",
       "      <td>11.898286</td>\n",
       "      <td>-0.067875</td>\n",
       "      <td>0.408730</td>\n",
       "      <td>-0.047133</td>\n",
       "    </tr>\n",
       "    <tr>\n",
       "      <th>000fbd867</th>\n",
       "      <td>-0.037646</td>\n",
       "      <td>-0.04689</td>\n",
       "      <td>-0.017437</td>\n",
       "      <td>-0.053221</td>\n",
       "      <td>-0.022451</td>\n",
       "      <td>-0.024846</td>\n",
       "      <td>-0.038443</td>\n",
       "      <td>-0.097765</td>\n",
       "      <td>-0.081369</td>\n",
       "      <td>-0.028876</td>\n",
       "      <td>...</td>\n",
       "      <td>-0.025715</td>\n",
       "      <td>-0.022134</td>\n",
       "      <td>-0.072342</td>\n",
       "      <td>-0.056363</td>\n",
       "      <td>-0.125852</td>\n",
       "      <td>-0.312210</td>\n",
       "      <td>24.849548</td>\n",
       "      <td>-0.068376</td>\n",
       "      <td>0.673509</td>\n",
       "      <td>-0.042430</td>\n",
       "    </tr>\n",
       "    <tr>\n",
       "      <th>0027d6b71</th>\n",
       "      <td>-0.037646</td>\n",
       "      <td>-0.04689</td>\n",
       "      <td>-0.017437</td>\n",
       "      <td>-0.053221</td>\n",
       "      <td>-0.022451</td>\n",
       "      <td>-0.024846</td>\n",
       "      <td>-0.267393</td>\n",
       "      <td>-0.097765</td>\n",
       "      <td>-0.081369</td>\n",
       "      <td>-0.028876</td>\n",
       "      <td>...</td>\n",
       "      <td>-0.025715</td>\n",
       "      <td>-0.022134</td>\n",
       "      <td>-0.072342</td>\n",
       "      <td>-0.056363</td>\n",
       "      <td>-0.125852</td>\n",
       "      <td>-0.317181</td>\n",
       "      <td>1.735534</td>\n",
       "      <td>-0.069433</td>\n",
       "      <td>0.083112</td>\n",
       "      <td>-0.077464</td>\n",
       "    </tr>\n",
       "    <tr>\n",
       "      <th>0028cbf45</th>\n",
       "      <td>-0.037646</td>\n",
       "      <td>-0.04689</td>\n",
       "      <td>-0.017437</td>\n",
       "      <td>-0.053221</td>\n",
       "      <td>-0.022451</td>\n",
       "      <td>-0.024846</td>\n",
       "      <td>-0.267393</td>\n",
       "      <td>-0.097765</td>\n",
       "      <td>-0.081369</td>\n",
       "      <td>-0.028876</td>\n",
       "      <td>...</td>\n",
       "      <td>-0.025715</td>\n",
       "      <td>-0.022134</td>\n",
       "      <td>-0.072342</td>\n",
       "      <td>-0.056363</td>\n",
       "      <td>-0.125852</td>\n",
       "      <td>-0.317181</td>\n",
       "      <td>9.533153</td>\n",
       "      <td>-0.069720</td>\n",
       "      <td>0.223669</td>\n",
       "      <td>-0.075159</td>\n",
       "    </tr>\n",
       "    <tr>\n",
       "      <th>002a68644</th>\n",
       "      <td>-0.037646</td>\n",
       "      <td>-0.04689</td>\n",
       "      <td>-0.017437</td>\n",
       "      <td>-0.053221</td>\n",
       "      <td>-0.022451</td>\n",
       "      <td>-0.024846</td>\n",
       "      <td>-0.059257</td>\n",
       "      <td>-0.097765</td>\n",
       "      <td>-0.081369</td>\n",
       "      <td>-0.028876</td>\n",
       "      <td>...</td>\n",
       "      <td>-0.025715</td>\n",
       "      <td>-0.022134</td>\n",
       "      <td>-0.072342</td>\n",
       "      <td>-0.056363</td>\n",
       "      <td>-0.125852</td>\n",
       "      <td>-0.317181</td>\n",
       "      <td>5.225917</td>\n",
       "      <td>-0.069337</td>\n",
       "      <td>0.174926</td>\n",
       "      <td>-0.072679</td>\n",
       "    </tr>\n",
       "  </tbody>\n",
       "</table>\n",
       "<p>5 rows × 3957 columns</p>\n",
       "</div>"
      ],
      "text/plain": [
       "           48df886f9  34b15f335  2f0771a37  30347e683  d08d1fbe3  6ee66e115  \\\n",
       "ID                                                                            \n",
       "000d6aaf2  -0.037646   -0.04689  -0.017437  -0.053221  -0.022451  -0.024846   \n",
       "000fbd867  -0.037646   -0.04689  -0.017437  -0.053221  -0.022451  -0.024846   \n",
       "0027d6b71  -0.037646   -0.04689  -0.017437  -0.053221  -0.022451  -0.024846   \n",
       "0028cbf45  -0.037646   -0.04689  -0.017437  -0.053221  -0.022451  -0.024846   \n",
       "002a68644  -0.037646   -0.04689  -0.017437  -0.053221  -0.022451  -0.024846   \n",
       "\n",
       "           20aa07010  dc5a8f1d8  11d86fa6a  8d6c2a0b2    ...     71b203550  \\\n",
       "ID                                                       ...                 \n",
       "000d6aaf2  -0.267393  -0.097765  -0.081369  -0.028876    ...     -0.025715   \n",
       "000fbd867  -0.038443  -0.097765  -0.081369  -0.028876    ...     -0.025715   \n",
       "0027d6b71  -0.267393  -0.097765  -0.081369  -0.028876    ...     -0.025715   \n",
       "0028cbf45  -0.267393  -0.097765  -0.081369  -0.028876    ...     -0.025715   \n",
       "002a68644  -0.059257  -0.097765  -0.081369  -0.028876    ...     -0.025715   \n",
       "\n",
       "           137efaa80  fb36b89d9  7e293fbaf  9fc776466       min        max  \\\n",
       "ID                                                                           \n",
       "000d6aaf2  -0.022134  -0.072342  -0.056363  -0.125852 -0.303641  11.898286   \n",
       "000fbd867  -0.022134  -0.072342  -0.056363  -0.125852 -0.312210  24.849548   \n",
       "0027d6b71  -0.022134  -0.072342  -0.056363  -0.125852 -0.317181   1.735534   \n",
       "0028cbf45  -0.022134  -0.072342  -0.056363  -0.125852 -0.317181   9.533153   \n",
       "002a68644  -0.022134  -0.072342  -0.056363  -0.125852 -0.317181   5.225917   \n",
       "\n",
       "                med       std      mean  \n",
       "ID                                       \n",
       "000d6aaf2 -0.067875  0.408730 -0.047133  \n",
       "000fbd867 -0.068376  0.673509 -0.042430  \n",
       "0027d6b71 -0.069433  0.083112 -0.077464  \n",
       "0028cbf45 -0.069720  0.223669 -0.075159  \n",
       "002a68644 -0.069337  0.174926 -0.072679  \n",
       "\n",
       "[5 rows x 3957 columns]"
      ]
     },
     "execution_count": 16,
     "metadata": {},
     "output_type": "execute_result"
    }
   ],
   "source": [
    "from sklearn.preprocessing import StandardScaler\n",
    "\n",
    "class Featureplus(BaseEstimator, TransformerMixin):\n",
    "    \"\"\"Scaling and addition of some engineered feature\"\"\"\n",
    "    def __init__(self):\n",
    "        self.scaler = StandardScaler()\n",
    "        self.columns = []\n",
    "    \n",
    "    def fit(self, X, y=None):\n",
    "        self.columns = X.columns\n",
    "        self.scaler.fit(X[self.columns])\n",
    "        return self\n",
    "    \n",
    "    def transform(self, X, y=None):\n",
    "        indexes = X.index\n",
    "        Xscaled = self.scaler.transform(X[self.columns])\n",
    "        df = pd.DataFrame(Xscaled, columns=self.columns, index = indexes)\n",
    "        # Min\n",
    "        df['min'] = df.apply(min, axis=1)\n",
    "        # Max\n",
    "        df['max'] = df.apply(max, axis=1)\n",
    "        # Med\n",
    "        df['med'] = df.apply(np.median, axis=1)\n",
    "        # std\n",
    "        df['std'] = df.apply(np.std, axis=1)\n",
    "        # mean\n",
    "        df['mean'] = df.apply(np.mean, axis=1)\n",
    "        return df\n",
    "\n",
    "featureplus = Featureplus()\n",
    "Xfeat = featureplus.fit_transform(Xclean)\n",
    "print('fit done')\n",
    "Xtestfeat = featureplus.transform(Xtestclean)\n",
    "Xfeat.head()"
   ]
  },
  {
   "cell_type": "code",
   "execution_count": 17,
   "metadata": {},
   "outputs": [
    {
     "data": {
      "text/plain": [
       "(4459, 3957)"
      ]
     },
     "execution_count": 17,
     "metadata": {},
     "output_type": "execute_result"
    }
   ],
   "source": [
    "Xfeat.shape"
   ]
  },
  {
   "cell_type": "code",
   "execution_count": 18,
   "metadata": {},
   "outputs": [
    {
     "name": "stdout",
     "output_type": "stream",
     "text": [
      "fiting done !\n",
      "df corrected\n"
     ]
    },
    {
     "data": {
      "text/html": [
       "<div>\n",
       "<style scoped>\n",
       "    .dataframe tbody tr th:only-of-type {\n",
       "        vertical-align: middle;\n",
       "    }\n",
       "\n",
       "    .dataframe tbody tr th {\n",
       "        vertical-align: top;\n",
       "    }\n",
       "\n",
       "    .dataframe thead th {\n",
       "        text-align: right;\n",
       "    }\n",
       "</style>\n",
       "<table border=\"1\" class=\"dataframe\">\n",
       "  <thead>\n",
       "    <tr style=\"text-align: right;\">\n",
       "      <th></th>\n",
       "      <th>48df886f9</th>\n",
       "      <th>34b15f335</th>\n",
       "      <th>2f0771a37</th>\n",
       "      <th>30347e683</th>\n",
       "      <th>d08d1fbe3</th>\n",
       "      <th>6ee66e115</th>\n",
       "      <th>20aa07010</th>\n",
       "      <th>dc5a8f1d8</th>\n",
       "      <th>11d86fa6a</th>\n",
       "      <th>8d6c2a0b2</th>\n",
       "      <th>...</th>\n",
       "      <th>clust-20_10</th>\n",
       "      <th>clust-20_11</th>\n",
       "      <th>clust-20_12</th>\n",
       "      <th>clust-20_13</th>\n",
       "      <th>clust-20_14</th>\n",
       "      <th>clust-20_15</th>\n",
       "      <th>clust-20_16</th>\n",
       "      <th>clust-20_17</th>\n",
       "      <th>clust-20_18</th>\n",
       "      <th>clust-20_19</th>\n",
       "    </tr>\n",
       "    <tr>\n",
       "      <th>ID</th>\n",
       "      <th></th>\n",
       "      <th></th>\n",
       "      <th></th>\n",
       "      <th></th>\n",
       "      <th></th>\n",
       "      <th></th>\n",
       "      <th></th>\n",
       "      <th></th>\n",
       "      <th></th>\n",
       "      <th></th>\n",
       "      <th></th>\n",
       "      <th></th>\n",
       "      <th></th>\n",
       "      <th></th>\n",
       "      <th></th>\n",
       "      <th></th>\n",
       "      <th></th>\n",
       "      <th></th>\n",
       "      <th></th>\n",
       "      <th></th>\n",
       "      <th></th>\n",
       "    </tr>\n",
       "  </thead>\n",
       "  <tbody>\n",
       "    <tr>\n",
       "      <th>000d6aaf2</th>\n",
       "      <td>-0.037646</td>\n",
       "      <td>-0.04689</td>\n",
       "      <td>-0.017437</td>\n",
       "      <td>-0.053221</td>\n",
       "      <td>-0.022451</td>\n",
       "      <td>-0.024846</td>\n",
       "      <td>-0.267393</td>\n",
       "      <td>-0.097765</td>\n",
       "      <td>-0.081369</td>\n",
       "      <td>-0.028876</td>\n",
       "      <td>...</td>\n",
       "      <td>0</td>\n",
       "      <td>0</td>\n",
       "      <td>0</td>\n",
       "      <td>0</td>\n",
       "      <td>0</td>\n",
       "      <td>0</td>\n",
       "      <td>0</td>\n",
       "      <td>0</td>\n",
       "      <td>0</td>\n",
       "      <td>0</td>\n",
       "    </tr>\n",
       "    <tr>\n",
       "      <th>000fbd867</th>\n",
       "      <td>-0.037646</td>\n",
       "      <td>-0.04689</td>\n",
       "      <td>-0.017437</td>\n",
       "      <td>-0.053221</td>\n",
       "      <td>-0.022451</td>\n",
       "      <td>-0.024846</td>\n",
       "      <td>-0.038443</td>\n",
       "      <td>-0.097765</td>\n",
       "      <td>-0.081369</td>\n",
       "      <td>-0.028876</td>\n",
       "      <td>...</td>\n",
       "      <td>0</td>\n",
       "      <td>0</td>\n",
       "      <td>0</td>\n",
       "      <td>0</td>\n",
       "      <td>0</td>\n",
       "      <td>0</td>\n",
       "      <td>0</td>\n",
       "      <td>0</td>\n",
       "      <td>0</td>\n",
       "      <td>0</td>\n",
       "    </tr>\n",
       "    <tr>\n",
       "      <th>0027d6b71</th>\n",
       "      <td>-0.037646</td>\n",
       "      <td>-0.04689</td>\n",
       "      <td>-0.017437</td>\n",
       "      <td>-0.053221</td>\n",
       "      <td>-0.022451</td>\n",
       "      <td>-0.024846</td>\n",
       "      <td>-0.267393</td>\n",
       "      <td>-0.097765</td>\n",
       "      <td>-0.081369</td>\n",
       "      <td>-0.028876</td>\n",
       "      <td>...</td>\n",
       "      <td>0</td>\n",
       "      <td>0</td>\n",
       "      <td>0</td>\n",
       "      <td>0</td>\n",
       "      <td>0</td>\n",
       "      <td>0</td>\n",
       "      <td>0</td>\n",
       "      <td>1</td>\n",
       "      <td>0</td>\n",
       "      <td>0</td>\n",
       "    </tr>\n",
       "    <tr>\n",
       "      <th>0028cbf45</th>\n",
       "      <td>-0.037646</td>\n",
       "      <td>-0.04689</td>\n",
       "      <td>-0.017437</td>\n",
       "      <td>-0.053221</td>\n",
       "      <td>-0.022451</td>\n",
       "      <td>-0.024846</td>\n",
       "      <td>-0.267393</td>\n",
       "      <td>-0.097765</td>\n",
       "      <td>-0.081369</td>\n",
       "      <td>-0.028876</td>\n",
       "      <td>...</td>\n",
       "      <td>0</td>\n",
       "      <td>0</td>\n",
       "      <td>0</td>\n",
       "      <td>0</td>\n",
       "      <td>0</td>\n",
       "      <td>0</td>\n",
       "      <td>0</td>\n",
       "      <td>1</td>\n",
       "      <td>0</td>\n",
       "      <td>0</td>\n",
       "    </tr>\n",
       "    <tr>\n",
       "      <th>002a68644</th>\n",
       "      <td>-0.037646</td>\n",
       "      <td>-0.04689</td>\n",
       "      <td>-0.017437</td>\n",
       "      <td>-0.053221</td>\n",
       "      <td>-0.022451</td>\n",
       "      <td>-0.024846</td>\n",
       "      <td>-0.059257</td>\n",
       "      <td>-0.097765</td>\n",
       "      <td>-0.081369</td>\n",
       "      <td>-0.028876</td>\n",
       "      <td>...</td>\n",
       "      <td>0</td>\n",
       "      <td>0</td>\n",
       "      <td>0</td>\n",
       "      <td>0</td>\n",
       "      <td>0</td>\n",
       "      <td>0</td>\n",
       "      <td>0</td>\n",
       "      <td>1</td>\n",
       "      <td>0</td>\n",
       "      <td>0</td>\n",
       "    </tr>\n",
       "  </tbody>\n",
       "</table>\n",
       "<p>5 rows × 4007 columns</p>\n",
       "</div>"
      ],
      "text/plain": [
       "           48df886f9  34b15f335  2f0771a37  30347e683  d08d1fbe3  6ee66e115  \\\n",
       "ID                                                                            \n",
       "000d6aaf2  -0.037646   -0.04689  -0.017437  -0.053221  -0.022451  -0.024846   \n",
       "000fbd867  -0.037646   -0.04689  -0.017437  -0.053221  -0.022451  -0.024846   \n",
       "0027d6b71  -0.037646   -0.04689  -0.017437  -0.053221  -0.022451  -0.024846   \n",
       "0028cbf45  -0.037646   -0.04689  -0.017437  -0.053221  -0.022451  -0.024846   \n",
       "002a68644  -0.037646   -0.04689  -0.017437  -0.053221  -0.022451  -0.024846   \n",
       "\n",
       "           20aa07010  dc5a8f1d8  11d86fa6a  8d6c2a0b2     ...       \\\n",
       "ID                                                        ...        \n",
       "000d6aaf2  -0.267393  -0.097765  -0.081369  -0.028876     ...        \n",
       "000fbd867  -0.038443  -0.097765  -0.081369  -0.028876     ...        \n",
       "0027d6b71  -0.267393  -0.097765  -0.081369  -0.028876     ...        \n",
       "0028cbf45  -0.267393  -0.097765  -0.081369  -0.028876     ...        \n",
       "002a68644  -0.059257  -0.097765  -0.081369  -0.028876     ...        \n",
       "\n",
       "           clust-20_10  clust-20_11  clust-20_12  clust-20_13  clust-20_14  \\\n",
       "ID                                                                           \n",
       "000d6aaf2            0            0            0            0            0   \n",
       "000fbd867            0            0            0            0            0   \n",
       "0027d6b71            0            0            0            0            0   \n",
       "0028cbf45            0            0            0            0            0   \n",
       "002a68644            0            0            0            0            0   \n",
       "\n",
       "           clust-20_15  clust-20_16  clust-20_17  clust-20_18  clust-20_19  \n",
       "ID                                                                          \n",
       "000d6aaf2            0            0            0            0            0  \n",
       "000fbd867            0            0            0            0            0  \n",
       "0027d6b71            0            0            1            0            0  \n",
       "0028cbf45            0            0            1            0            0  \n",
       "002a68644            0            0            1            0            0  \n",
       "\n",
       "[5 rows x 4007 columns]"
      ]
     },
     "execution_count": 18,
     "metadata": {},
     "output_type": "execute_result"
    }
   ],
   "source": [
    "from sklearn.cluster import KMeans\n",
    "from sklearn.decomposition import PCA\n",
    "\n",
    "class Kmeansplus(BaseEstimator, TransformerMixin):\n",
    "    \"\"\"Kmeans clustering with engineered features per cluster\"\"\"\n",
    "    def __init__(self, clustsize=[ 5, 10, 15, 20], pca_var_min=.50):\n",
    "        self.clustsize = clustsize\n",
    "        self.columns = []\n",
    "        self.pca = PCA(random_state=55)\n",
    "        self.pca_var_min = pca_var_min\n",
    "    \n",
    "    def fit(self, X, y=None):\n",
    "        self.columns = X.columns.tolist()\n",
    "        \n",
    "        self.pca.fit(X)\n",
    "        var = self.pca.explained_variance_ratio_.cumsum()\n",
    "        components = np.where(var>self.pca_var_min)[0][0]\n",
    "        self.pca.set_params(n_components = components)\n",
    "        Xpca = self.pca.fit_transform(X)\n",
    "        \n",
    "        \n",
    "        for index, clustsize in enumerate(self.clustsize):\n",
    "            #print(index, clustsize)\n",
    "            setattr(self, f'cluster_{index}', KMeans(n_clusters=clustsize, random_state=0))\n",
    "            getattr(self, f'cluster_{index}').fit(Xpca)\n",
    "            \n",
    "            for counter in range(clustsize):\n",
    "                self.columns.append(f'clust-{clustsize}_{counter}')\n",
    "            \n",
    "        return self\n",
    "    \n",
    "    def transform(self, X, y=None):\n",
    "        df = X.copy()\n",
    "        Xpca = self.pca.transform(X)\n",
    "        \n",
    "        for index, clustsize in enumerate(self.clustsize):\n",
    "            predictions = getattr(self, f'cluster_{index}').predict(Xpca)\n",
    "            columnname = f'clust-{clustsize}'\n",
    "            df[columnname] = predictions\n",
    "            df[columnname] = df[columnname].astype(str)\n",
    "        \n",
    "        df = pd.get_dummies(df, prefix=None, prefix_sep='_')\n",
    "        \n",
    "        missing = [x for x in self.columns if x not in df.columns]\n",
    "        \n",
    "        if len(missing)!=0:\n",
    "            print('df corrected')\n",
    "            df = df.add(pd.DataFrame(np.full((X.shape[0],len(missing)), 0), columns=missing, index=X.index), fill_value=0, axis=1)\n",
    "        \n",
    "        return df[self.columns]\n",
    "\n",
    "    \n",
    "kmeansplus = Kmeansplus()\n",
    "Xfinal = kmeansplus.fit_transform(Xfeat)\n",
    "print('fiting done !')\n",
    "Xtestfinal = kmeansplus.transform(Xtestfeat)\n",
    "Xfinal.head()"
   ]
  },
  {
   "cell_type": "code",
   "execution_count": 19,
   "metadata": {},
   "outputs": [
    {
     "data": {
      "text/plain": [
       "(49342, 4007)"
      ]
     },
     "execution_count": 19,
     "metadata": {},
     "output_type": "execute_result"
    }
   ],
   "source": [
    "Xtestfinal.shape"
   ]
  },
  {
   "cell_type": "markdown",
   "metadata": {},
   "source": [
    "# Feature assembly"
   ]
  },
  {
   "cell_type": "code",
   "execution_count": 20,
   "metadata": {},
   "outputs": [],
   "source": [
    "from sklearn.pipeline import Pipeline"
   ]
  },
  {
   "cell_type": "code",
   "execution_count": 23,
   "metadata": {},
   "outputs": [],
   "source": [
    "cleanerplus = Cleanerplus(distinctmin=2, target='target')\n",
    "featureplus = Featureplus()\n",
    "kmeansplus = Kmeansplus(clustsize=[ 5, 10, 15, 20], pca_var_min=.90)\n",
    "pipe = [('cleanerplus',cleanerplus), ('featureplus',featureplus), ('kmeansplus',kmeansplus)]\n",
    "pipeline = Pipeline(pipe)"
   ]
  },
  {
   "cell_type": "code",
   "execution_count": 24,
   "metadata": {},
   "outputs": [
    {
     "data": {
      "text/plain": [
       "(4459, 4545)"
      ]
     },
     "execution_count": 24,
     "metadata": {},
     "output_type": "execute_result"
    }
   ],
   "source": [
    "Xtranstrain = pipeline.fit_transform(Xtrain)\n",
    "Xtranstrain.shape"
   ]
  },
  {
   "cell_type": "code",
   "execution_count": 25,
   "metadata": {},
   "outputs": [
    {
     "name": "stdout",
     "output_type": "stream",
     "text": [
      "df corrected\n"
     ]
    },
    {
     "data": {
      "text/plain": [
       "(49342, 4545)"
      ]
     },
     "execution_count": 25,
     "metadata": {},
     "output_type": "execute_result"
    }
   ],
   "source": [
    "Xtranstest = pipeline.transform(Xtest)\n",
    "Xtranstest.shape"
   ]
  },
  {
   "cell_type": "code",
   "execution_count": 26,
   "metadata": {},
   "outputs": [
    {
     "data": {
      "text/plain": [
       "Pipeline(memory=None,\n",
       "     steps=[('cleanerplus', Cleanerplus(distinctmin=2, target='target')), ('featureplus', Featureplus()), ('kmeansplus', Kmeansplus(clustsize=[5, 10, 15, 20], pca_var_min=0.9))])"
      ]
     },
     "execution_count": 26,
     "metadata": {},
     "output_type": "execute_result"
    }
   ],
   "source": [
    "pipeline"
   ]
  },
  {
   "cell_type": "code",
   "execution_count": 27,
   "metadata": {},
   "outputs": [
    {
     "data": {
      "text/plain": [
       "(49342, 4991)"
      ]
     },
     "execution_count": 27,
     "metadata": {},
     "output_type": "execute_result"
    }
   ],
   "source": [
    "Xtest.shape"
   ]
  },
  {
   "cell_type": "code",
   "execution_count": 28,
   "metadata": {},
   "outputs": [
    {
     "data": {
      "text/plain": [
       "(4459, 4991)"
      ]
     },
     "execution_count": 28,
     "metadata": {},
     "output_type": "execute_result"
    }
   ],
   "source": [
    "Xtrain.shape"
   ]
  },
  {
   "cell_type": "markdown",
   "metadata": {},
   "source": [
    "# Regressions"
   ]
  },
  {
   "cell_type": "code",
   "execution_count": 59,
   "metadata": {},
   "outputs": [],
   "source": [
    "n_jobs=-2\n",
    "max_evals=50\n",
    "n_splits=3\n",
    "metric = 'neg_mean_squared_error'#'neg_mean_squared_log_error'"
   ]
  },
  {
   "cell_type": "markdown",
   "metadata": {},
   "source": [
    "## Metrics and KFolds"
   ]
  },
  {
   "cell_type": "code",
   "execution_count": 60,
   "metadata": {},
   "outputs": [],
   "source": [
    "from sklearn.model_selection import KFold\n",
    "kf = KFold(n_splits=n_splits)"
   ]
  },
  {
   "cell_type": "code",
   "execution_count": 31,
   "metadata": {},
   "outputs": [],
   "source": [
    "from hyperopt import hp, tpe\n",
    "from hyperopt.fmin import fmin\n",
    "from sklearn.model_selection import cross_val_score"
   ]
  },
  {
   "cell_type": "code",
   "execution_count": null,
   "metadata": {},
   "outputs": [],
   "source": []
  },
  {
   "cell_type": "markdown",
   "metadata": {},
   "source": [
    "## Elasticnet..."
   ]
  },
  {
   "cell_type": "code",
   "execution_count": 95,
   "metadata": {},
   "outputs": [
    {
     "data": {
      "text/plain": [
       "ElasticNet(alpha=1.0, copy_X=True, fit_intercept=True, l1_ratio=0.5,\n",
       "      max_iter=1000, normalize=False, positive=False, precompute=False,\n",
       "      random_state=None, selection='cyclic', tol=0.0001, warm_start=False)"
      ]
     },
     "execution_count": 95,
     "metadata": {},
     "output_type": "execute_result"
    }
   ],
   "source": [
    "from sklearn.linear_model import ElasticNet\n",
    "enet = ElasticNet()\n",
    "enet.fit(Xtranstrain, y)"
   ]
  },
  {
   "cell_type": "code",
   "execution_count": 101,
   "metadata": {},
   "outputs": [
    {
     "name": "stdout",
     "output_type": "stream",
     "text": [
      "Attempt 1 - MSE 72.61594981881011 - params {'alpha': 0.3672082909245594, 'l1_ratio': 0.36295627757554483, 'random_state': 0}\n",
      "\n",
      "Attempt 2\n",
      "Attempt 3\n",
      "Attempt 4\n",
      "Attempt 5\n"
     ]
    },
    {
     "name": "stderr",
     "output_type": "stream",
     "text": [
      "/Users/cricket/anaconda3/lib/python3.6/site-packages/sklearn/linear_model/coordinate_descent.py:491: ConvergenceWarning: Objective did not converge. You might want to increase the number of iterations. Fitting data with very small alpha may cause precision problems.\n",
      "  ConvergenceWarning)\n",
      "/Users/cricket/anaconda3/lib/python3.6/site-packages/sklearn/linear_model/coordinate_descent.py:491: ConvergenceWarning: Objective did not converge. You might want to increase the number of iterations. Fitting data with very small alpha may cause precision problems.\n",
      "  ConvergenceWarning)\n"
     ]
    },
    {
     "name": "stdout",
     "output_type": "stream",
     "text": [
      "Attempt 6\n",
      "Attempt 7\n",
      "Attempt 8\n",
      "Attempt 9\n",
      "Attempt 10\n",
      "Attempt 11 - MSE 72.46933382422013 - params {'alpha': 0.9562870320953234, 'l1_ratio': 0.17554363363054803, 'random_state': 0}\n",
      "\n",
      "Attempt 12\n",
      "Attempt 13\n",
      "Attempt 14\n",
      "Attempt 15\n"
     ]
    },
    {
     "name": "stderr",
     "output_type": "stream",
     "text": [
      "/Users/cricket/anaconda3/lib/python3.6/site-packages/sklearn/linear_model/coordinate_descent.py:491: ConvergenceWarning: Objective did not converge. You might want to increase the number of iterations. Fitting data with very small alpha may cause precision problems.\n",
      "  ConvergenceWarning)\n",
      "/Users/cricket/anaconda3/lib/python3.6/site-packages/sklearn/linear_model/coordinate_descent.py:491: ConvergenceWarning: Objective did not converge. You might want to increase the number of iterations. Fitting data with very small alpha may cause precision problems.\n",
      "  ConvergenceWarning)\n"
     ]
    },
    {
     "name": "stdout",
     "output_type": "stream",
     "text": [
      "Attempt 16\n",
      "Attempt 17\n",
      "Attempt 18\n",
      "Attempt 19\n",
      "Attempt 20 - MSE 72.16752135424392 - params {'alpha': 0.876187948620709, 'l1_ratio': 0.16033917867820713, 'random_state': 0}\n",
      "\n"
     ]
    },
    {
     "name": "stderr",
     "output_type": "stream",
     "text": [
      "/Users/cricket/anaconda3/lib/python3.6/site-packages/sklearn/linear_model/coordinate_descent.py:491: ConvergenceWarning: Objective did not converge. You might want to increase the number of iterations. Fitting data with very small alpha may cause precision problems.\n",
      "  ConvergenceWarning)\n",
      "/Users/cricket/anaconda3/lib/python3.6/site-packages/sklearn/linear_model/coordinate_descent.py:491: ConvergenceWarning: Objective did not converge. You might want to increase the number of iterations. Fitting data with very small alpha may cause precision problems.\n",
      "  ConvergenceWarning)\n"
     ]
    },
    {
     "name": "stdout",
     "output_type": "stream",
     "text": [
      "Attempt 21\n"
     ]
    },
    {
     "name": "stderr",
     "output_type": "stream",
     "text": [
      "/Users/cricket/anaconda3/lib/python3.6/site-packages/sklearn/linear_model/coordinate_descent.py:491: ConvergenceWarning: Objective did not converge. You might want to increase the number of iterations. Fitting data with very small alpha may cause precision problems.\n",
      "  ConvergenceWarning)\n",
      "/Users/cricket/anaconda3/lib/python3.6/site-packages/sklearn/linear_model/coordinate_descent.py:491: ConvergenceWarning: Objective did not converge. You might want to increase the number of iterations. Fitting data with very small alpha may cause precision problems.\n",
      "  ConvergenceWarning)\n"
     ]
    },
    {
     "name": "stdout",
     "output_type": "stream",
     "text": [
      "Attempt 22\n",
      "Attempt 23 - MSE 72.02635710195241 - params {'alpha': 0.9390510345013042, 'l1_ratio': 0.1294424555330282, 'random_state': 0}\n",
      "\n",
      "Attempt 24\n",
      "Attempt 25\n",
      "Attempt 26\n",
      "Attempt 27\n",
      "Attempt 28\n"
     ]
    },
    {
     "name": "stderr",
     "output_type": "stream",
     "text": [
      "/Users/cricket/anaconda3/lib/python3.6/site-packages/sklearn/linear_model/coordinate_descent.py:491: ConvergenceWarning: Objective did not converge. You might want to increase the number of iterations. Fitting data with very small alpha may cause precision problems.\n",
      "  ConvergenceWarning)\n",
      "/Users/cricket/anaconda3/lib/python3.6/site-packages/sklearn/linear_model/coordinate_descent.py:491: ConvergenceWarning: Objective did not converge. You might want to increase the number of iterations. Fitting data with very small alpha may cause precision problems.\n",
      "  ConvergenceWarning)\n"
     ]
    },
    {
     "name": "stdout",
     "output_type": "stream",
     "text": [
      "Attempt 29\n",
      "Attempt 30\n",
      "Attempt 31\n",
      "Attempt 32\n",
      "Attempt 33\n"
     ]
    },
    {
     "name": "stderr",
     "output_type": "stream",
     "text": [
      "/Users/cricket/anaconda3/lib/python3.6/site-packages/sklearn/linear_model/coordinate_descent.py:491: ConvergenceWarning: Objective did not converge. You might want to increase the number of iterations. Fitting data with very small alpha may cause precision problems.\n",
      "  ConvergenceWarning)\n",
      "/Users/cricket/anaconda3/lib/python3.6/site-packages/sklearn/linear_model/coordinate_descent.py:491: ConvergenceWarning: Objective did not converge. You might want to increase the number of iterations. Fitting data with very small alpha may cause precision problems.\n",
      "  ConvergenceWarning)\n"
     ]
    },
    {
     "name": "stdout",
     "output_type": "stream",
     "text": [
      "Attempt 34\n",
      "Attempt 35 - MSE 72.01410151683469 - params {'alpha': 0.7949866630830508, 'l1_ratio': 0.1269437708299042, 'random_state': 0}\n",
      "\n",
      "Attempt 36\n",
      "Attempt 37\n",
      "Attempt 38\n",
      "Attempt 39\n",
      "Attempt 40\n",
      "Attempt 41 - MSE 71.97939086676578 - params {'alpha': 0.9296310459953416, 'l1_ratio': 0.12054711011836194, 'random_state': 0}\n",
      "\n",
      "Attempt 42\n",
      "Attempt 43\n",
      "Attempt 44\n",
      "Attempt 45\n",
      "Attempt 46\n",
      "Attempt 47\n",
      "Attempt 48\n",
      "Attempt 49\n"
     ]
    },
    {
     "name": "stderr",
     "output_type": "stream",
     "text": [
      "/Users/cricket/anaconda3/lib/python3.6/site-packages/sklearn/linear_model/coordinate_descent.py:491: ConvergenceWarning: Objective did not converge. You might want to increase the number of iterations. Fitting data with very small alpha may cause precision problems.\n",
      "  ConvergenceWarning)\n",
      "/Users/cricket/anaconda3/lib/python3.6/site-packages/sklearn/linear_model/coordinate_descent.py:491: ConvergenceWarning: Objective did not converge. You might want to increase the number of iterations. Fitting data with very small alpha may cause precision problems.\n",
      "  ConvergenceWarning)\n"
     ]
    },
    {
     "name": "stdout",
     "output_type": "stream",
     "text": [
      "Attempt 50\n"
     ]
    }
   ],
   "source": [
    "counter=0\n",
    "bestscore = 1e20\n",
    "def objective(params):\n",
    "    global counter, bestscore\n",
    "    counter +=1\n",
    "    hyperparams = {\n",
    "        'alpha': params['alpha'],\n",
    "        'l1_ratio': params['l1_ratio'],\n",
    "        'random_state':0,\n",
    "\n",
    "        }\n",
    "    \n",
    "    enet = ElasticNet(**hyperparams)   \n",
    "    \n",
    "    score = cross_val_score(enet, Xtranstrain, y, scoring=metric, cv=kf, n_jobs=n_jobs, verbose=0).mean()\n",
    "    #if counter%5 == 0:\n",
    "    #    print(\"{} - MSE {}\".format(counter, -score))\n",
    "    if -score < bestscore:\n",
    "        print(\"Attempt {} - MSE {} - params {}\".format(counter, -score, hyperparams))\n",
    "        print()\n",
    "        bestscore = -score\n",
    "    else:\n",
    "        print('Attempt {}'.format(counter))\n",
    "    return -score\n",
    "\n",
    "space = {\n",
    "    'alpha': hp.uniform('alpha', 0, 1),\n",
    "    'l1_ratio': hp.uniform('l1_ratio',0, 1),\n",
    "}\n",
    "\n",
    "best = fmin(fn=objective,\n",
    "            space=space,\n",
    "            algo=tpe.suggest,\n",
    "            max_evals=max_evals)"
   ]
  },
  {
   "cell_type": "code",
   "execution_count": 102,
   "metadata": {},
   "outputs": [
    {
     "data": {
      "text/plain": [
       "{'alpha': 0.9296310459953416,\n",
       " 'l1_ratio': 0.12054711011836194,\n",
       " 'random_state': 0}"
      ]
     },
     "execution_count": 102,
     "metadata": {},
     "output_type": "execute_result"
    }
   ],
   "source": [
    "params = {\n",
    "        'alpha': best['alpha'],\n",
    "        'l1_ratio': best['l1_ratio'],\n",
    "        'random_state':0,\n",
    "        }\n",
    "params"
   ]
  },
  {
   "cell_type": "code",
   "execution_count": 103,
   "metadata": {},
   "outputs": [
    {
     "data": {
      "text/plain": [
       "ElasticNet(alpha=0.9296310459953416, copy_X=True, fit_intercept=True,\n",
       "      l1_ratio=0.12054711011836194, max_iter=1000, normalize=False,\n",
       "      positive=False, precompute=False, random_state=0, selection='cyclic',\n",
       "      tol=0.0001, warm_start=False)"
      ]
     },
     "execution_count": 103,
     "metadata": {},
     "output_type": "execute_result"
    }
   ],
   "source": [
    "enet = ElasticNet(**params)\n",
    "enet.fit(Xtranstrain, y)"
   ]
  },
  {
   "cell_type": "code",
   "execution_count": 121,
   "metadata": {},
   "outputs": [
    {
     "data": {
      "text/html": [
       "<div>\n",
       "<style scoped>\n",
       "    .dataframe tbody tr th:only-of-type {\n",
       "        vertical-align: middle;\n",
       "    }\n",
       "\n",
       "    .dataframe tbody tr th {\n",
       "        vertical-align: top;\n",
       "    }\n",
       "\n",
       "    .dataframe thead th {\n",
       "        text-align: right;\n",
       "    }\n",
       "</style>\n",
       "<table border=\"1\" class=\"dataframe\">\n",
       "  <thead>\n",
       "    <tr style=\"text-align: right;\">\n",
       "      <th></th>\n",
       "      <th>target</th>\n",
       "    </tr>\n",
       "    <tr>\n",
       "      <th>ID</th>\n",
       "      <th></th>\n",
       "    </tr>\n",
       "  </thead>\n",
       "  <tbody>\n",
       "    <tr>\n",
       "      <th>000137c73</th>\n",
       "      <td>6.199856e+05</td>\n",
       "    </tr>\n",
       "    <tr>\n",
       "      <th>00021489f</th>\n",
       "      <td>1.908826e+06</td>\n",
       "    </tr>\n",
       "    <tr>\n",
       "      <th>0004d7953</th>\n",
       "      <td>2.431719e+06</td>\n",
       "    </tr>\n",
       "    <tr>\n",
       "      <th>00056a333</th>\n",
       "      <td>2.776807e+06</td>\n",
       "    </tr>\n",
       "    <tr>\n",
       "      <th>00056d8eb</th>\n",
       "      <td>2.574679e+06</td>\n",
       "    </tr>\n",
       "  </tbody>\n",
       "</table>\n",
       "</div>"
      ],
      "text/plain": [
       "                 target\n",
       "ID                     \n",
       "000137c73  6.199856e+05\n",
       "00021489f  1.908826e+06\n",
       "0004d7953  2.431719e+06\n",
       "00056a333  2.776807e+06\n",
       "00056d8eb  2.574679e+06"
      ]
     },
     "execution_count": 121,
     "metadata": {},
     "output_type": "execute_result"
    }
   ],
   "source": [
    "from scipy.special import inv_boxcox\n",
    "\n",
    "preds = inv_boxcox(enet.predict(Xtranstest), lmbda)\n",
    "submission = pd.DataFrame({'target':preds}, index=Xtest.index)\n",
    "submission.head()\n",
    "#submission.to_csv('submission-2-LGBM.csv')"
   ]
  },
  {
   "cell_type": "code",
   "execution_count": 125,
   "metadata": {},
   "outputs": [
    {
     "data": {
      "text/plain": [
       "target    0\n",
       "dtype: int64"
      ]
     },
     "execution_count": 125,
     "metadata": {},
     "output_type": "execute_result"
    }
   ],
   "source": [
    "submission.isnull().sum()"
   ]
  },
  {
   "cell_type": "code",
   "execution_count": 124,
   "metadata": {},
   "outputs": [],
   "source": [
    "submission.to_csv('submission-1-elasticnet.csv')"
   ]
  },
  {
   "cell_type": "markdown",
   "metadata": {},
   "source": [
    "## LGBM"
   ]
  },
  {
   "cell_type": "code",
   "execution_count": 32,
   "metadata": {},
   "outputs": [],
   "source": [
    "import lightgbm as lgb\n",
    "\n",
    "gbm = lgb.LGBMRegressor()"
   ]
  },
  {
   "cell_type": "code",
   "execution_count": 71,
   "metadata": {},
   "outputs": [
    {
     "name": "stdout",
     "output_type": "stream",
     "text": [
      "Attempt 1 - MSLE 2.231294512802875 - params {'num_leaves': 72, 'min_data_in_leaf': 63, 'min_child_weight': 0.0790552052543238, 'n_estimators': 500, 'colsample_bytree': 0.6550272729159825, 'max_depth': 10, 'seed': 0}\n",
      "\n",
      "Attempt 2 - MSLE 2.220518568772521 - params {'num_leaves': 365, 'min_data_in_leaf': 28, 'min_child_weight': 0.03634115242149104, 'n_estimators': 500, 'colsample_bytree': 0.722537579811914, 'max_depth': 10, 'seed': 0}\n",
      "\n",
      "5 - MSLE 2.1864531867931007 - best score 2.220518568772521\n",
      "Attempt 5 - MSLE 2.1864531867931007 - params {'num_leaves': 318, 'min_data_in_leaf': 21, 'min_child_weight': 4.543152885998747, 'n_estimators': 500, 'colsample_bytree': 0.37322295086750135, 'max_depth': 10, 'seed': 0}\n",
      "\n",
      "10 - MSLE 2.223988326687751 - best score 2.1864531867931007\n",
      "15 - MSLE 2.180054447834841 - best score 2.1864531867931007\n",
      "Attempt 15 - MSLE 2.180054447834841 - params {'num_leaves': 394, 'min_data_in_leaf': 20, 'min_child_weight': 5.955895443827464, 'n_estimators': 500, 'colsample_bytree': 0.20250880225987822, 'max_depth': 10, 'seed': 0}\n",
      "\n",
      "Attempt 19 - MSLE 2.171193901715446 - params {'num_leaves': 68, 'min_data_in_leaf': 22, 'min_child_weight': 0.1186474434870996, 'n_estimators': 500, 'colsample_bytree': 0.0641450915760966, 'max_depth': 10, 'seed': 0}\n",
      "\n",
      "20 - MSLE 2.20546888387141 - best score 2.171193901715446\n",
      "Attempt 21 - MSLE 2.151172045403275 - params {'num_leaves': 462, 'min_data_in_leaf': 12, 'min_child_weight': 0.7712197694439009, 'n_estimators': 500, 'colsample_bytree': 0.024153473883799563, 'max_depth': 10, 'seed': 0}\n",
      "\n",
      "Attempt 23 - MSLE 2.134242514927304 - params {'num_leaves': 487, 'min_data_in_leaf': 15, 'min_child_weight': 0.46487174970619644, 'n_estimators': 500, 'colsample_bytree': 0.009892260823263652, 'max_depth': 10, 'seed': 0}\n",
      "\n",
      "25 - MSLE 2.1462845475342185 - best score 2.134242514927304\n",
      "30 - MSLE 2.192355087824893 - best score 2.134242514927304\n",
      "35 - MSLE 2.1847195541386246 - best score 2.134242514927304\n",
      "40 - MSLE 2.1900690467909616 - best score 2.134242514927304\n",
      "45 - MSLE 2.209700122846396 - best score 2.134242514927304\n",
      "50 - MSLE 2.1950842998436433 - best score 2.134242514927304\n"
     ]
    }
   ],
   "source": [
    "from sklearn.metrics import mean_squared_log_error\n",
    "from sklearn.model_selection import cross_val_predict\n",
    "\n",
    "counter=0\n",
    "bestscore = 1e20\n",
    "def objective(params):\n",
    "    global counter, bestscore\n",
    "    counter +=1\n",
    "    hyperparams = {\n",
    "        'num_leaves': int(params['num_leaves']),\n",
    "        'min_data_in_leaf': int(params['min_data_in_leaf']),\n",
    "        'min_child_weight': params['min_child_weight'],\n",
    "        'n_estimators':500,\n",
    "        'colsample_bytree': params['colsample_bytree'],\n",
    "        #'bagging_fraction': params['bagging_fraction'],\n",
    "        #'bagging_freq': params['bagging_freq'],\n",
    "        #'reg_alpha': params['reg_alpha'],\n",
    "        #'reg_lambda': params['reg_lambda'],\n",
    "        'max_depth':10,#int(params['max_depth']),\n",
    "        #'learning_rate':params['learning_rate'],\n",
    "        'seed':0,\n",
    "        }\n",
    "    \n",
    "    gbm = lgb.LGBMRegressor(objective='regression', **hyperparams)\n",
    "\n",
    "    #score = cross_val_score(gbm, Xtranstrain, y, scoring=metric, cv=kf, n_jobs=n_jobs, verbose=0).mean()\n",
    "    \n",
    "    preds = cross_val_predict(gbm, Xtranstrain, y, cv=kf, n_jobs=n_jobs)\n",
    "    score = mean_squared_log_error(inv_boxcox(y, lmbda), inv_boxcox(preds, lmbda))\n",
    "    \n",
    "    if counter%5 == 0:\n",
    "        print(\"{} - MSLE {} - best score {}\".format(counter, score, bestscore))\n",
    "    if score < bestscore:\n",
    "        print(\"Attempt {} - MSLE {} - params {}\".format(counter, score, hyperparams))\n",
    "        print()\n",
    "        bestscore = score\n",
    "    return score\n",
    "\n",
    "space = {\n",
    "    'num_leaves': hp.uniform('num_leaves', 30, 600),\n",
    "    'min_data_in_leaf': hp.uniform('min_data_in_leaf',10, 100),\n",
    "    'min_child_weight': hp.loguniform('min_child_weight', -8, 2),\n",
    "    #'n_estimators': hp.uniform('n_estimators', 100, 5000),\n",
    "    'colsample_bytree': hp.uniform('colsample_bytree', 0., 1.0),\n",
    "    #'bagging_fraction': hp.uniform('bagging_fraction', 0., 1.0),\n",
    "    #'bagging_freq': hp.randint('bagging_freq', 15),\n",
    "    #'reg_alpha': hp.loguniform('reg_alpha', -3, 3),\n",
    "    #'reg_lambda': hp.loguniform('reg_lambda', -3, 3),\n",
    "}\n",
    "\n",
    "best = fmin(fn=objective,\n",
    "            space=space,\n",
    "            algo=tpe.suggest,\n",
    "            max_evals=max_evals)"
   ]
  },
  {
   "cell_type": "code",
   "execution_count": 72,
   "metadata": {},
   "outputs": [
    {
     "data": {
      "text/plain": [
       "{'colsample_bytree': 0.009892260823263652,\n",
       " 'max_depth': 10,\n",
       " 'min_child_weight': 0.46487174970619644,\n",
       " 'min_data_in_leaf': 15,\n",
       " 'n_estimators': 500,\n",
       " 'num_leaves': 487,\n",
       " 'seed': 0}"
      ]
     },
     "execution_count": 72,
     "metadata": {},
     "output_type": "execute_result"
    }
   ],
   "source": [
    "params = {\n",
    "        'num_leaves': int(best['num_leaves']),\n",
    "        'min_data_in_leaf': int(best['min_data_in_leaf']),\n",
    "        'min_child_weight': best['min_child_weight'],\n",
    "        'n_estimators':500,\n",
    "        'max_depth':10,\n",
    "        'colsample_bytree': best['colsample_bytree'],\n",
    "        #'bagging_fraction': best['bagging_fraction'],\n",
    "        #'bagging_freq': best['bagging_freq'],\n",
    "        #'reg_alpha': best['reg_alpha'],\n",
    "        #'reg_lambda': best['reg_lambda'],\n",
    "        'seed':0,\n",
    "        }\n",
    "params"
   ]
  },
  {
   "cell_type": "code",
   "execution_count": 37,
   "metadata": {},
   "outputs": [],
   "source": [
    "#params = {'num_leaves': 126, 'min_data_in_leaf': 39, 'min_child_weight': 6.536289958679432, 'n_estimators': 750, 'colsample_bytree': 0.1160063292528698, 'bagging_fraction': 0.8932028860054155, 'bagging_freq': 0, 'max_depth': 15, 'seed': 0}"
   ]
  },
  {
   "cell_type": "code",
   "execution_count": 75,
   "metadata": {},
   "outputs": [],
   "source": [
    "hypergbm = lgb.LGBMRegressor(objective='regression', **params)"
   ]
  },
  {
   "cell_type": "code",
   "execution_count": 76,
   "metadata": {},
   "outputs": [
    {
     "data": {
      "text/plain": [
       "LGBMRegressor(boosting_type='gbdt', class_weight=None,\n",
       "       colsample_bytree=0.009892260823263652, learning_rate=0.1,\n",
       "       max_depth=10, min_child_samples=20,\n",
       "       min_child_weight=0.46487174970619644, min_data_in_leaf=15,\n",
       "       min_split_gain=0.0, n_estimators=500, n_jobs=-1, num_leaves=487,\n",
       "       objective='regression', random_state=None, reg_alpha=0.0,\n",
       "       reg_lambda=0.0, seed=0, silent=True, subsample=1.0,\n",
       "       subsample_for_bin=200000, subsample_freq=1)"
      ]
     },
     "execution_count": 76,
     "metadata": {},
     "output_type": "execute_result"
    }
   ],
   "source": [
    "\n",
    "hypergbm.fit(Xtranstrain,y)"
   ]
  },
  {
   "cell_type": "code",
   "execution_count": 77,
   "metadata": {},
   "outputs": [
    {
     "data": {
      "text/plain": [
       "2.134242514927304"
      ]
     },
     "execution_count": 77,
     "metadata": {},
     "output_type": "execute_result"
    }
   ],
   "source": [
    "from scipy.special import inv_boxcox\n",
    "from sklearn.metrics import mean_squared_log_error\n",
    "from sklearn.model_selection import cross_val_predict\n",
    "\n",
    "preds = cross_val_predict(hypergbm, Xtranstrain, y, cv=kf, n_jobs=-2)\n",
    "preds = inv_boxcox(preds, lmbda)\n",
    "\n",
    "mean_squared_log_error(inv_boxcox(y, lmbda), preds)\n"
   ]
  },
  {
   "cell_type": "code",
   "execution_count": 78,
   "metadata": {},
   "outputs": [
    {
     "data": {
      "text/html": [
       "<div>\n",
       "<style scoped>\n",
       "    .dataframe tbody tr th:only-of-type {\n",
       "        vertical-align: middle;\n",
       "    }\n",
       "\n",
       "    .dataframe tbody tr th {\n",
       "        vertical-align: top;\n",
       "    }\n",
       "\n",
       "    .dataframe thead th {\n",
       "        text-align: right;\n",
       "    }\n",
       "</style>\n",
       "<table border=\"1\" class=\"dataframe\">\n",
       "  <thead>\n",
       "    <tr style=\"text-align: right;\">\n",
       "      <th></th>\n",
       "      <th>target</th>\n",
       "    </tr>\n",
       "    <tr>\n",
       "      <th>ID</th>\n",
       "      <th></th>\n",
       "    </tr>\n",
       "  </thead>\n",
       "  <tbody>\n",
       "    <tr>\n",
       "      <th>000137c73</th>\n",
       "      <td>4.489507e+06</td>\n",
       "    </tr>\n",
       "    <tr>\n",
       "      <th>00021489f</th>\n",
       "      <td>3.043157e+06</td>\n",
       "    </tr>\n",
       "    <tr>\n",
       "      <th>0004d7953</th>\n",
       "      <td>2.689425e+06</td>\n",
       "    </tr>\n",
       "    <tr>\n",
       "      <th>00056a333</th>\n",
       "      <td>4.722499e+06</td>\n",
       "    </tr>\n",
       "    <tr>\n",
       "      <th>00056d8eb</th>\n",
       "      <td>3.129871e+06</td>\n",
       "    </tr>\n",
       "  </tbody>\n",
       "</table>\n",
       "</div>"
      ],
      "text/plain": [
       "                 target\n",
       "ID                     \n",
       "000137c73  4.489507e+06\n",
       "00021489f  3.043157e+06\n",
       "0004d7953  2.689425e+06\n",
       "00056a333  4.722499e+06\n",
       "00056d8eb  3.129871e+06"
      ]
     },
     "execution_count": 78,
     "metadata": {},
     "output_type": "execute_result"
    }
   ],
   "source": [
    "hypergbm.fit(Xtranstrain,y)\n",
    "\n",
    "preds = inv_boxcox(hypergbm.predict(Xtranstest), lmbda)\n",
    "submission = pd.DataFrame({'target':preds}, index=Xtest.index)\n",
    "submission.head()"
   ]
  },
  {
   "cell_type": "code",
   "execution_count": 79,
   "metadata": {},
   "outputs": [
    {
     "data": {
      "text/plain": [
       "target    0\n",
       "dtype: int64"
      ]
     },
     "execution_count": 79,
     "metadata": {},
     "output_type": "execute_result"
    }
   ],
   "source": [
    "submission.isnull().sum()"
   ]
  },
  {
   "cell_type": "code",
   "execution_count": 80,
   "metadata": {},
   "outputs": [],
   "source": [
    "submission.to_csv('submission-G2-01-LGBM.csv')"
   ]
  },
  {
   "cell_type": "code",
   "execution_count": null,
   "metadata": {},
   "outputs": [],
   "source": []
  },
  {
   "cell_type": "code",
   "execution_count": null,
   "metadata": {},
   "outputs": [],
   "source": []
  }
 ],
 "metadata": {
  "kernelspec": {
   "display_name": "Python 3",
   "language": "python",
   "name": "python3"
  },
  "language_info": {
   "codemirror_mode": {
    "name": "ipython",
    "version": 3
   },
   "file_extension": ".py",
   "mimetype": "text/x-python",
   "name": "python",
   "nbconvert_exporter": "python",
   "pygments_lexer": "ipython3",
   "version": "3.6.4"
  }
 },
 "nbformat": 4,
 "nbformat_minor": 2
}
