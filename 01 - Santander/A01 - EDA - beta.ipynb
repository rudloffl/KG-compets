{
 "cells": [
  {
   "cell_type": "code",
   "execution_count": 1,
   "metadata": {
    "_cell_guid": "b1076dfc-b9ad-4769-8c92-a6c4dae69d19",
    "_uuid": "8f2839f25d086af736a60e9eeb907d3b93b6e0e5"
   },
   "outputs": [],
   "source": [
    "# This Python 3 environment comes with many helpful analytics libraries installed\n",
    "# It is defined by the kaggle/python docker image: https://github.com/kaggle/docker-python\n",
    "# For example, here's several helpful packages to load in \n",
    "\n",
    "import numpy as np # linear algebra\n",
    "import pandas as pd # data processing, CSV file I/O (e.g. pd.read_csv)\n",
    "\n",
    "# Input data files are available in the \"../input/\" directory.\n",
    "# For example, running this (by clicking run or pressing Shift+Enter) will list the files in the input directory\n",
    "\n",
    "import os\n",
    "#print(os.listdir(\"../input\"))\n",
    "\n",
    "# Any results you write to the current directory are saved as output."
   ]
  },
  {
   "cell_type": "code",
   "execution_count": 2,
   "metadata": {
    "_cell_guid": "79c7e3d0-c299-4dcb-8224-4455121ee9b0",
    "_uuid": "d629ff2d2480ee46fbb7e2d37f6b5fab8052498a"
   },
   "outputs": [
    {
     "data": {
      "text/plain": [
       "(4459, 4992)"
      ]
     },
     "execution_count": 2,
     "metadata": {},
     "output_type": "execute_result"
    }
   ],
   "source": [
    "train = pd.read_csv('train.csv', index_col='ID')\n",
    "train.shape"
   ]
  },
  {
   "cell_type": "code",
   "execution_count": 3,
   "metadata": {
    "_uuid": "2addd6d9963b938d3d724e6fb881b481c846b185"
   },
   "outputs": [
    {
     "data": {
      "text/html": [
       "<div>\n",
       "<style scoped>\n",
       "    .dataframe tbody tr th:only-of-type {\n",
       "        vertical-align: middle;\n",
       "    }\n",
       "\n",
       "    .dataframe tbody tr th {\n",
       "        vertical-align: top;\n",
       "    }\n",
       "\n",
       "    .dataframe thead th {\n",
       "        text-align: right;\n",
       "    }\n",
       "</style>\n",
       "<table border=\"1\" class=\"dataframe\">\n",
       "  <thead>\n",
       "    <tr style=\"text-align: right;\">\n",
       "      <th></th>\n",
       "      <th>target</th>\n",
       "      <th>48df886f9</th>\n",
       "      <th>0deb4b6a8</th>\n",
       "      <th>34b15f335</th>\n",
       "      <th>a8cb14b00</th>\n",
       "      <th>2f0771a37</th>\n",
       "      <th>30347e683</th>\n",
       "      <th>d08d1fbe3</th>\n",
       "      <th>6ee66e115</th>\n",
       "      <th>20aa07010</th>\n",
       "      <th>...</th>\n",
       "      <th>3ecc09859</th>\n",
       "      <th>9281abeea</th>\n",
       "      <th>8675bec0b</th>\n",
       "      <th>3a13ed79a</th>\n",
       "      <th>f677d4d13</th>\n",
       "      <th>71b203550</th>\n",
       "      <th>137efaa80</th>\n",
       "      <th>fb36b89d9</th>\n",
       "      <th>7e293fbaf</th>\n",
       "      <th>9fc776466</th>\n",
       "    </tr>\n",
       "    <tr>\n",
       "      <th>ID</th>\n",
       "      <th></th>\n",
       "      <th></th>\n",
       "      <th></th>\n",
       "      <th></th>\n",
       "      <th></th>\n",
       "      <th></th>\n",
       "      <th></th>\n",
       "      <th></th>\n",
       "      <th></th>\n",
       "      <th></th>\n",
       "      <th></th>\n",
       "      <th></th>\n",
       "      <th></th>\n",
       "      <th></th>\n",
       "      <th></th>\n",
       "      <th></th>\n",
       "      <th></th>\n",
       "      <th></th>\n",
       "      <th></th>\n",
       "      <th></th>\n",
       "      <th></th>\n",
       "    </tr>\n",
       "  </thead>\n",
       "  <tbody>\n",
       "    <tr>\n",
       "      <th>000d6aaf2</th>\n",
       "      <td>38000000.0</td>\n",
       "      <td>0.0</td>\n",
       "      <td>0</td>\n",
       "      <td>0.0</td>\n",
       "      <td>0</td>\n",
       "      <td>0</td>\n",
       "      <td>0</td>\n",
       "      <td>0</td>\n",
       "      <td>0</td>\n",
       "      <td>0.0</td>\n",
       "      <td>...</td>\n",
       "      <td>0.0</td>\n",
       "      <td>0.0</td>\n",
       "      <td>0.0</td>\n",
       "      <td>0</td>\n",
       "      <td>0</td>\n",
       "      <td>0</td>\n",
       "      <td>0</td>\n",
       "      <td>0</td>\n",
       "      <td>0</td>\n",
       "      <td>0</td>\n",
       "    </tr>\n",
       "    <tr>\n",
       "      <th>000fbd867</th>\n",
       "      <td>600000.0</td>\n",
       "      <td>0.0</td>\n",
       "      <td>0</td>\n",
       "      <td>0.0</td>\n",
       "      <td>0</td>\n",
       "      <td>0</td>\n",
       "      <td>0</td>\n",
       "      <td>0</td>\n",
       "      <td>0</td>\n",
       "      <td>2200000.0</td>\n",
       "      <td>...</td>\n",
       "      <td>0.0</td>\n",
       "      <td>0.0</td>\n",
       "      <td>0.0</td>\n",
       "      <td>0</td>\n",
       "      <td>0</td>\n",
       "      <td>0</td>\n",
       "      <td>0</td>\n",
       "      <td>0</td>\n",
       "      <td>0</td>\n",
       "      <td>0</td>\n",
       "    </tr>\n",
       "    <tr>\n",
       "      <th>0027d6b71</th>\n",
       "      <td>10000000.0</td>\n",
       "      <td>0.0</td>\n",
       "      <td>0</td>\n",
       "      <td>0.0</td>\n",
       "      <td>0</td>\n",
       "      <td>0</td>\n",
       "      <td>0</td>\n",
       "      <td>0</td>\n",
       "      <td>0</td>\n",
       "      <td>0.0</td>\n",
       "      <td>...</td>\n",
       "      <td>0.0</td>\n",
       "      <td>0.0</td>\n",
       "      <td>0.0</td>\n",
       "      <td>0</td>\n",
       "      <td>0</td>\n",
       "      <td>0</td>\n",
       "      <td>0</td>\n",
       "      <td>0</td>\n",
       "      <td>0</td>\n",
       "      <td>0</td>\n",
       "    </tr>\n",
       "    <tr>\n",
       "      <th>0028cbf45</th>\n",
       "      <td>2000000.0</td>\n",
       "      <td>0.0</td>\n",
       "      <td>0</td>\n",
       "      <td>0.0</td>\n",
       "      <td>0</td>\n",
       "      <td>0</td>\n",
       "      <td>0</td>\n",
       "      <td>0</td>\n",
       "      <td>0</td>\n",
       "      <td>0.0</td>\n",
       "      <td>...</td>\n",
       "      <td>0.0</td>\n",
       "      <td>0.0</td>\n",
       "      <td>0.0</td>\n",
       "      <td>0</td>\n",
       "      <td>0</td>\n",
       "      <td>0</td>\n",
       "      <td>0</td>\n",
       "      <td>0</td>\n",
       "      <td>0</td>\n",
       "      <td>0</td>\n",
       "    </tr>\n",
       "    <tr>\n",
       "      <th>002a68644</th>\n",
       "      <td>14400000.0</td>\n",
       "      <td>0.0</td>\n",
       "      <td>0</td>\n",
       "      <td>0.0</td>\n",
       "      <td>0</td>\n",
       "      <td>0</td>\n",
       "      <td>0</td>\n",
       "      <td>0</td>\n",
       "      <td>0</td>\n",
       "      <td>2000000.0</td>\n",
       "      <td>...</td>\n",
       "      <td>0.0</td>\n",
       "      <td>0.0</td>\n",
       "      <td>0.0</td>\n",
       "      <td>0</td>\n",
       "      <td>0</td>\n",
       "      <td>0</td>\n",
       "      <td>0</td>\n",
       "      <td>0</td>\n",
       "      <td>0</td>\n",
       "      <td>0</td>\n",
       "    </tr>\n",
       "  </tbody>\n",
       "</table>\n",
       "<p>5 rows × 4992 columns</p>\n",
       "</div>"
      ],
      "text/plain": [
       "               target  48df886f9  0deb4b6a8  34b15f335  a8cb14b00  2f0771a37  \\\n",
       "ID                                                                             \n",
       "000d6aaf2  38000000.0        0.0          0        0.0          0          0   \n",
       "000fbd867    600000.0        0.0          0        0.0          0          0   \n",
       "0027d6b71  10000000.0        0.0          0        0.0          0          0   \n",
       "0028cbf45   2000000.0        0.0          0        0.0          0          0   \n",
       "002a68644  14400000.0        0.0          0        0.0          0          0   \n",
       "\n",
       "           30347e683  d08d1fbe3  6ee66e115  20aa07010    ...      3ecc09859  \\\n",
       "ID                                                       ...                  \n",
       "000d6aaf2          0          0          0        0.0    ...            0.0   \n",
       "000fbd867          0          0          0  2200000.0    ...            0.0   \n",
       "0027d6b71          0          0          0        0.0    ...            0.0   \n",
       "0028cbf45          0          0          0        0.0    ...            0.0   \n",
       "002a68644          0          0          0  2000000.0    ...            0.0   \n",
       "\n",
       "           9281abeea  8675bec0b  3a13ed79a  f677d4d13  71b203550  137efaa80  \\\n",
       "ID                                                                            \n",
       "000d6aaf2        0.0        0.0          0          0          0          0   \n",
       "000fbd867        0.0        0.0          0          0          0          0   \n",
       "0027d6b71        0.0        0.0          0          0          0          0   \n",
       "0028cbf45        0.0        0.0          0          0          0          0   \n",
       "002a68644        0.0        0.0          0          0          0          0   \n",
       "\n",
       "           fb36b89d9  7e293fbaf  9fc776466  \n",
       "ID                                          \n",
       "000d6aaf2          0          0          0  \n",
       "000fbd867          0          0          0  \n",
       "0027d6b71          0          0          0  \n",
       "0028cbf45          0          0          0  \n",
       "002a68644          0          0          0  \n",
       "\n",
       "[5 rows x 4992 columns]"
      ]
     },
     "execution_count": 3,
     "metadata": {},
     "output_type": "execute_result"
    }
   ],
   "source": [
    "train.head()"
   ]
  },
  {
   "cell_type": "code",
   "execution_count": 4,
   "metadata": {
    "_uuid": "462466ee15776e6372b8be05f3780aafb3904574"
   },
   "outputs": [
    {
     "data": {
      "text/plain": [
       "(49342, 4991)"
      ]
     },
     "execution_count": 4,
     "metadata": {},
     "output_type": "execute_result"
    }
   ],
   "source": [
    "test = pd.read_csv('test.csv', index_col='ID')\n",
    "test.shape"
   ]
  },
  {
   "cell_type": "code",
   "execution_count": 5,
   "metadata": {},
   "outputs": [
    {
     "data": {
      "text/html": [
       "<div>\n",
       "<style scoped>\n",
       "    .dataframe tbody tr th:only-of-type {\n",
       "        vertical-align: middle;\n",
       "    }\n",
       "\n",
       "    .dataframe tbody tr th {\n",
       "        vertical-align: top;\n",
       "    }\n",
       "\n",
       "    .dataframe thead th {\n",
       "        text-align: right;\n",
       "    }\n",
       "</style>\n",
       "<table border=\"1\" class=\"dataframe\">\n",
       "  <thead>\n",
       "    <tr style=\"text-align: right;\">\n",
       "      <th></th>\n",
       "      <th>48df886f9</th>\n",
       "      <th>0deb4b6a8</th>\n",
       "      <th>34b15f335</th>\n",
       "      <th>a8cb14b00</th>\n",
       "      <th>2f0771a37</th>\n",
       "      <th>30347e683</th>\n",
       "      <th>d08d1fbe3</th>\n",
       "      <th>6ee66e115</th>\n",
       "      <th>20aa07010</th>\n",
       "      <th>dc5a8f1d8</th>\n",
       "      <th>...</th>\n",
       "      <th>3ecc09859</th>\n",
       "      <th>9281abeea</th>\n",
       "      <th>8675bec0b</th>\n",
       "      <th>3a13ed79a</th>\n",
       "      <th>f677d4d13</th>\n",
       "      <th>71b203550</th>\n",
       "      <th>137efaa80</th>\n",
       "      <th>fb36b89d9</th>\n",
       "      <th>7e293fbaf</th>\n",
       "      <th>9fc776466</th>\n",
       "    </tr>\n",
       "    <tr>\n",
       "      <th>ID</th>\n",
       "      <th></th>\n",
       "      <th></th>\n",
       "      <th></th>\n",
       "      <th></th>\n",
       "      <th></th>\n",
       "      <th></th>\n",
       "      <th></th>\n",
       "      <th></th>\n",
       "      <th></th>\n",
       "      <th></th>\n",
       "      <th></th>\n",
       "      <th></th>\n",
       "      <th></th>\n",
       "      <th></th>\n",
       "      <th></th>\n",
       "      <th></th>\n",
       "      <th></th>\n",
       "      <th></th>\n",
       "      <th></th>\n",
       "      <th></th>\n",
       "      <th></th>\n",
       "    </tr>\n",
       "  </thead>\n",
       "  <tbody>\n",
       "    <tr>\n",
       "      <th>000137c73</th>\n",
       "      <td>0.0</td>\n",
       "      <td>0.0</td>\n",
       "      <td>0.0</td>\n",
       "      <td>0.0</td>\n",
       "      <td>0.0</td>\n",
       "      <td>0.0</td>\n",
       "      <td>0.0</td>\n",
       "      <td>0.0</td>\n",
       "      <td>0.0</td>\n",
       "      <td>0.0</td>\n",
       "      <td>...</td>\n",
       "      <td>0.0</td>\n",
       "      <td>0.0</td>\n",
       "      <td>0.0</td>\n",
       "      <td>0.0</td>\n",
       "      <td>0.0</td>\n",
       "      <td>0.0</td>\n",
       "      <td>0.0</td>\n",
       "      <td>0.0</td>\n",
       "      <td>0.0</td>\n",
       "      <td>0.0</td>\n",
       "    </tr>\n",
       "    <tr>\n",
       "      <th>00021489f</th>\n",
       "      <td>0.0</td>\n",
       "      <td>0.0</td>\n",
       "      <td>0.0</td>\n",
       "      <td>0.0</td>\n",
       "      <td>0.0</td>\n",
       "      <td>0.0</td>\n",
       "      <td>0.0</td>\n",
       "      <td>0.0</td>\n",
       "      <td>0.0</td>\n",
       "      <td>0.0</td>\n",
       "      <td>...</td>\n",
       "      <td>0.0</td>\n",
       "      <td>0.0</td>\n",
       "      <td>0.0</td>\n",
       "      <td>0.0</td>\n",
       "      <td>0.0</td>\n",
       "      <td>0.0</td>\n",
       "      <td>0.0</td>\n",
       "      <td>0.0</td>\n",
       "      <td>0.0</td>\n",
       "      <td>0.0</td>\n",
       "    </tr>\n",
       "    <tr>\n",
       "      <th>0004d7953</th>\n",
       "      <td>0.0</td>\n",
       "      <td>0.0</td>\n",
       "      <td>0.0</td>\n",
       "      <td>0.0</td>\n",
       "      <td>0.0</td>\n",
       "      <td>0.0</td>\n",
       "      <td>0.0</td>\n",
       "      <td>0.0</td>\n",
       "      <td>0.0</td>\n",
       "      <td>0.0</td>\n",
       "      <td>...</td>\n",
       "      <td>0.0</td>\n",
       "      <td>0.0</td>\n",
       "      <td>0.0</td>\n",
       "      <td>0.0</td>\n",
       "      <td>0.0</td>\n",
       "      <td>0.0</td>\n",
       "      <td>0.0</td>\n",
       "      <td>0.0</td>\n",
       "      <td>0.0</td>\n",
       "      <td>0.0</td>\n",
       "    </tr>\n",
       "    <tr>\n",
       "      <th>00056a333</th>\n",
       "      <td>0.0</td>\n",
       "      <td>0.0</td>\n",
       "      <td>0.0</td>\n",
       "      <td>0.0</td>\n",
       "      <td>0.0</td>\n",
       "      <td>0.0</td>\n",
       "      <td>0.0</td>\n",
       "      <td>0.0</td>\n",
       "      <td>0.0</td>\n",
       "      <td>0.0</td>\n",
       "      <td>...</td>\n",
       "      <td>0.0</td>\n",
       "      <td>0.0</td>\n",
       "      <td>0.0</td>\n",
       "      <td>0.0</td>\n",
       "      <td>0.0</td>\n",
       "      <td>0.0</td>\n",
       "      <td>0.0</td>\n",
       "      <td>0.0</td>\n",
       "      <td>0.0</td>\n",
       "      <td>0.0</td>\n",
       "    </tr>\n",
       "    <tr>\n",
       "      <th>00056d8eb</th>\n",
       "      <td>0.0</td>\n",
       "      <td>0.0</td>\n",
       "      <td>0.0</td>\n",
       "      <td>0.0</td>\n",
       "      <td>0.0</td>\n",
       "      <td>0.0</td>\n",
       "      <td>0.0</td>\n",
       "      <td>0.0</td>\n",
       "      <td>0.0</td>\n",
       "      <td>0.0</td>\n",
       "      <td>...</td>\n",
       "      <td>0.0</td>\n",
       "      <td>0.0</td>\n",
       "      <td>0.0</td>\n",
       "      <td>0.0</td>\n",
       "      <td>0.0</td>\n",
       "      <td>0.0</td>\n",
       "      <td>0.0</td>\n",
       "      <td>0.0</td>\n",
       "      <td>0.0</td>\n",
       "      <td>0.0</td>\n",
       "    </tr>\n",
       "  </tbody>\n",
       "</table>\n",
       "<p>5 rows × 4991 columns</p>\n",
       "</div>"
      ],
      "text/plain": [
       "           48df886f9  0deb4b6a8  34b15f335  a8cb14b00  2f0771a37  30347e683  \\\n",
       "ID                                                                            \n",
       "000137c73        0.0        0.0        0.0        0.0        0.0        0.0   \n",
       "00021489f        0.0        0.0        0.0        0.0        0.0        0.0   \n",
       "0004d7953        0.0        0.0        0.0        0.0        0.0        0.0   \n",
       "00056a333        0.0        0.0        0.0        0.0        0.0        0.0   \n",
       "00056d8eb        0.0        0.0        0.0        0.0        0.0        0.0   \n",
       "\n",
       "           d08d1fbe3  6ee66e115  20aa07010  dc5a8f1d8    ...      3ecc09859  \\\n",
       "ID                                                       ...                  \n",
       "000137c73        0.0        0.0        0.0        0.0    ...            0.0   \n",
       "00021489f        0.0        0.0        0.0        0.0    ...            0.0   \n",
       "0004d7953        0.0        0.0        0.0        0.0    ...            0.0   \n",
       "00056a333        0.0        0.0        0.0        0.0    ...            0.0   \n",
       "00056d8eb        0.0        0.0        0.0        0.0    ...            0.0   \n",
       "\n",
       "           9281abeea  8675bec0b  3a13ed79a  f677d4d13  71b203550  137efaa80  \\\n",
       "ID                                                                            \n",
       "000137c73        0.0        0.0        0.0        0.0        0.0        0.0   \n",
       "00021489f        0.0        0.0        0.0        0.0        0.0        0.0   \n",
       "0004d7953        0.0        0.0        0.0        0.0        0.0        0.0   \n",
       "00056a333        0.0        0.0        0.0        0.0        0.0        0.0   \n",
       "00056d8eb        0.0        0.0        0.0        0.0        0.0        0.0   \n",
       "\n",
       "           fb36b89d9  7e293fbaf  9fc776466  \n",
       "ID                                          \n",
       "000137c73        0.0        0.0        0.0  \n",
       "00021489f        0.0        0.0        0.0  \n",
       "0004d7953        0.0        0.0        0.0  \n",
       "00056a333        0.0        0.0        0.0  \n",
       "00056d8eb        0.0        0.0        0.0  \n",
       "\n",
       "[5 rows x 4991 columns]"
      ]
     },
     "execution_count": 5,
     "metadata": {},
     "output_type": "execute_result"
    }
   ],
   "source": [
    "test.head()"
   ]
  },
  {
   "cell_type": "code",
   "execution_count": 8,
   "metadata": {
    "_uuid": "b3884bcef4ce8f22b686580aee408fc952ce14c5"
   },
   "outputs": [
    {
     "name": "stdout",
     "output_type": "stream",
     "text": [
      "Missing data in trainset : 0\n",
      "Missing data in testset : 0\n"
     ]
    }
   ],
   "source": [
    "print('Missing data in trainset :', train.isnull().sum().sum())\n",
    "print('Missing data in testset :', test.isnull().sum().sum())"
   ]
  },
  {
   "cell_type": "code",
   "execution_count": 9,
   "metadata": {
    "_uuid": "c2965e2589a5d9f5a4df376ce2890ca16f2850ff"
   },
   "outputs": [
    {
     "data": {
      "text/plain": [
       "2.0859665375858056"
      ]
     },
     "execution_count": 9,
     "metadata": {},
     "output_type": "execute_result"
    }
   ],
   "source": [
    "import matplotlib.pyplot as plt\n",
    "train['target'].plot(kind='density')\n",
    "train['target'].skew()"
   ]
  },
  {
   "cell_type": "code",
   "execution_count": 10,
   "metadata": {},
   "outputs": [],
   "source": [
    "from scipy import stats\n",
    "targetBC, lmbda = stats.boxcox(train['target'])"
   ]
  },
  {
   "cell_type": "code",
   "execution_count": null,
   "metadata": {},
   "outputs": [],
   "source": []
  },
  {
   "cell_type": "code",
   "execution_count": null,
   "metadata": {},
   "outputs": [],
   "source": []
  },
  {
   "cell_type": "code",
   "execution_count": 11,
   "metadata": {
    "_uuid": "55992c096cb6f3af5744faf1bf5eb74e6d7e05a1"
   },
   "outputs": [
    {
     "name": "stdout",
     "output_type": "stream",
     "text": [
      "int64 --> 3147  /  object --> 0\n"
     ]
    }
   ],
   "source": [
    "colint64=0\n",
    "colobject=0\n",
    "\n",
    "for column in train.columns:\n",
    "    if train[column].dtype == 'O':\n",
    "        print(f'{column} is categorical')\n",
    "        colobject+=1\n",
    "    elif train[column].dtype == 'int64':\n",
    "        colint64+=1\n",
    "print(f'int64 --> {colint64}  /  object --> {colobject}')"
   ]
  },
  {
   "cell_type": "code",
   "execution_count": 12,
   "metadata": {
    "_uuid": "ff2820058417a578c3617093dd8b625bbeffdc2b"
   },
   "outputs": [
    {
     "name": "stdout",
     "output_type": "stream",
     "text": [
      "4736 cols skewed, average 32.30445086114545, std 17.80271136570211\n"
     ]
    }
   ],
   "source": [
    "skewed = 0\n",
    "skewlist = []\n",
    "treshold = .5\n",
    "for column in train.columns:\n",
    "    skewval = train[column].skew()\n",
    "    if skewval > treshold:\n",
    "        skewed += 1\n",
    "        skewlist.append(skewval)\n",
    "        #print('Skewness for {} - {}'.format(column, train[column].skew()))\n",
    "average = np.array(skewlist).mean()\n",
    "skewstd = np.array(skewlist).std()\n",
    "print(f'{skewed} cols skewed, average {average}, std {skewstd}')"
   ]
  },
  {
   "cell_type": "code",
   "execution_count": 13,
   "metadata": {
    "_uuid": "e4bca7239442f1f6076caf6c4e79e05a6840d85c"
   },
   "outputs": [],
   "source": [
    "df = train.corr()"
   ]
  },
  {
   "cell_type": "code",
   "execution_count": 14,
   "metadata": {},
   "outputs": [
    {
     "data": {
      "text/plain": [
       "555f18bd3    0.273379\n",
       "9fd594eec    0.270019\n",
       "5bc7ab64f    0.267858\n",
       "cbbc9c431    0.265005\n",
       "f190486d6    0.263821\n",
       "Name: target, dtype: float64"
      ]
     },
     "execution_count": 14,
     "metadata": {},
     "output_type": "execute_result"
    }
   ],
   "source": [
    "df['target'].sort_values(ascending=False).iloc[1:6]"
   ]
  },
  {
   "cell_type": "code",
   "execution_count": 15,
   "metadata": {
    "_uuid": "54dd050015dffeaa9095446b78cf7271d83da015",
    "collapsed": true
   },
   "outputs": [
    {
     "name": "stderr",
     "output_type": "stream",
     "text": [
      "/Users/cricket/anaconda3/lib/python3.6/site-packages/matplotlib/axes/_axes.py:6448: UserWarning: The 'normed' kwarg is deprecated, and has been replaced by the 'density' kwarg.\n",
      "  warnings.warn(\"The 'normed' kwarg is deprecated, and has been \"\n"
     ]
    },
    {
     "data": {
      "image/png": "[encoded data removed]",
      "text/plain": [
       "<Figure size 432x432 with 3 Axes>"
      ]
     },
     "metadata": {},
     "output_type": "display_data"
    },
    {
     "data": {
      "image/png": "[encoded data removed]",
      "text/plain": [
       "<Figure size 432x432 with 3 Axes>"
      ]
     },
     "metadata": {},
     "output_type": "display_data"
    },
    {
     "data": {
      "image/png": "[encoded data removed]",
      "text/plain": [
       "<Figure size 432x432 with 3 Axes>"
      ]
     },
     "metadata": {},
     "output_type": "display_data"
    },
    {
     "data": {
      "image/png": "[encoded data removed]",
      "text/plain": [
       "<Figure size 432x432 with 3 Axes>"
      ]
     },
     "metadata": {},
     "output_type": "display_data"
    },
    {
     "data": {
      "image/png": "[encoded data removed]",
      "text/plain": [
       "<Figure size 432x432 with 3 Axes>"
      ]
     },
     "metadata": {},
     "output_type": "display_data"
    }
   ],
   "source": [
    "import seaborn as sns\n",
    "for index, value in df['target'].sort_values(ascending=False).iloc[1:6].items():\n",
    "    sns.jointplot(data=train, x='target', y=index, kind=\"reg\")"
   ]
  },
  {
   "cell_type": "code",
   "execution_count": 16,
   "metadata": {},
   "outputs": [
    {
     "name": "stdout",
     "output_type": "stream",
     "text": [
      "tokeep length:4735  -  todrop length:256\n"
     ]
    }
   ],
   "source": [
    "todrop = []\n",
    "for index, value in df['target'][df['target'].isnull()].items():\n",
    "    todrop.append(index)\n",
    "len(todrop)\n",
    "tokeep = [x for x in train.columns if x not in todrop and x != 'target']\n",
    "print(f'tokeep length:{len(tokeep)}  -  todrop length:{len(todrop)}')"
   ]
  },
  {
   "cell_type": "code",
   "execution_count": 17,
   "metadata": {},
   "outputs": [
    {
     "data": {
      "text/plain": [
       "False"
      ]
     },
     "execution_count": 17,
     "metadata": {},
     "output_type": "execute_result"
    }
   ],
   "source": [
    "'target' in tokeep"
   ]
  },
  {
   "cell_type": "code",
   "execution_count": 18,
   "metadata": {},
   "outputs": [],
   "source": [
    "from sklearn.preprocessing import StandardScaler\n",
    "from sklearn.decomposition import PCA\n",
    "\n",
    "X = train[tokeep]\n",
    "scaler = StandardScaler()\n",
    "Xscaled = scaler.fit_transform(X)\n",
    "\n",
    "pca = PCA()\n",
    "Xpca = pca.fit_transform(Xscaled)"
   ]
  },
  {
   "cell_type": "code",
   "execution_count": 19,
   "metadata": {},
   "outputs": [
    {
     "data": {
      "image/png": "[encoded data removed]",
      "text/plain": [
       "<Figure size 432x288 with 1 Axes>"
      ]
     },
     "metadata": {},
     "output_type": "display_data"
    }
   ],
   "source": [
    "componantsprinccumsum = pca.explained_variance_ratio_.cumsum()\n",
    "plt.plot(range(len(componantsprinccumsum)), componantsprinccumsum, color = 'green')\n",
    "plt.title('Cumulative variance ratio')\n",
    "plt.ylabel('% Representation')\n",
    "plt.xlabel('Components')\n",
    "plt.show()"
   ]
  },
  {
   "cell_type": "code",
   "execution_count": 20,
   "metadata": {},
   "outputs": [
    {
     "data": {
      "image/png": "[encoded data removed]",
      "text/plain": [
       "<Figure size 432x288 with 2 Axes>"
      ]
     },
     "metadata": {},
     "output_type": "display_data"
    }
   ],
   "source": [
    "plt.scatter(Xpca[:, 0], Xpca[:, 1], c=train['target'])\n",
    "# Axis\n",
    "#plt.plot([-40, 40], [0, 0], color='black', ls='--')\n",
    "#plt.plot([0, 0], [-14, 14], color='black', ls='--')\n",
    "# Title\n",
    "plt.title('Component analysis')\n",
    "plt.xlabel('First component')\n",
    "plt.ylabel('Second component')\n",
    "plt.colorbar()\n",
    "plt.show()"
   ]
  },
  {
   "cell_type": "code",
   "execution_count": 21,
   "metadata": {},
   "outputs": [],
   "source": [
    "X = train[tokeep]\n",
    "y = targetBC"
   ]
  },
  {
   "cell_type": "code",
   "execution_count": 36,
   "metadata": {},
   "outputs": [
    {
     "data": {
      "text/plain": [
       "(4459, 4735)"
      ]
     },
     "execution_count": 36,
     "metadata": {},
     "output_type": "execute_result"
    }
   ],
   "source": [
    "X.shape"
   ]
  },
  {
   "cell_type": "code",
   "execution_count": 48,
   "metadata": {},
   "outputs": [
    {
     "data": {
      "text/plain": [
       "(4459, 3000)"
      ]
     },
     "execution_count": 48,
     "metadata": {},
     "output_type": "execute_result"
    }
   ],
   "source": [
    "X = train[tokeep]\n",
    "scaler = StandardScaler()\n",
    "Xscaled = scaler.fit_transform(X)\n",
    "\n",
    "pca = PCA(n_components=3000)\n",
    "Xpca = pca.fit_transform(Xscaled)\n",
    "Xpca.shape"
   ]
  },
  {
   "cell_type": "code",
   "execution_count": 22,
   "metadata": {},
   "outputs": [],
   "source": [
    "import lightgbm as lgb\n",
    "\n",
    "gbm = lgb.LGBMRegressor()"
   ]
  },
  {
   "cell_type": "code",
   "execution_count": 41,
   "metadata": {},
   "outputs": [],
   "source": []
  },
  {
   "cell_type": "code",
   "execution_count": 26,
   "metadata": {},
   "outputs": [],
   "source": [
    "from sklearn.model_selection import KFold\n",
    "kf = KFold(n_splits=5)"
   ]
  },
  {
   "cell_type": "code",
   "execution_count": 45,
   "metadata": {},
   "outputs": [],
   "source": [
    "from sklearn.pipeline import Pipeline\n",
    "pca=PCA(n_components=50)\n",
    "    \n",
    "gbm = lgb.LGBMRegressor(objective='regression')\n",
    "\n",
    "pipe = [('scaler', scaler), ('pca', pca), ('gbm', gbm)]\n",
    "regpip = Pipeline(pipe)\n",
    "regpip.fit(X,y)"
   ]
  },
  {
   "cell_type": "code",
   "execution_count": 27,
   "metadata": {},
   "outputs": [],
   "source": [
    "from hyperopt import hp, tpe\n",
    "from hyperopt.fmin import fmin\n",
    "from sklearn.model_selection import cross_val_score"
   ]
  },
  {
   "cell_type": "code",
   "execution_count": null,
   "metadata": {},
   "outputs": [
    {
     "name": "stdout",
     "output_type": "stream",
     "text": [
      "Attempt 1 - MSE 68.29341833352338 - params {'min_data_in_leaf': 12, 'min_child_weight': 0.00179485921603111, 'n_estimators': 750, 'colsample_bytree': 0.6943292013258109, 'max_depth': 8, 'seed': 0}\n",
      "\n",
      "Attempt 2\n",
      "Attempt 3 - MSE 67.91830054626251 - params {'min_data_in_leaf': 20, 'min_child_weight': 0.008023268340690311, 'n_estimators': 750, 'colsample_bytree': 0.6938898314212588, 'max_depth': 14, 'seed': 0}\n",
      "\n",
      "Attempt 4\n",
      "Attempt 5\n",
      "Attempt 6\n",
      "Attempt 7 - MSE 67.68560622021656 - params {'min_data_in_leaf': 21, 'min_child_weight': 0.9676325509328525, 'n_estimators': 750, 'colsample_bytree': 0.31775163698480835, 'max_depth': 7, 'seed': 0}\n",
      "\n"
     ]
    }
   ],
   "source": [
    "counter=0\n",
    "bestscore = 1e20\n",
    "def objective(params):\n",
    "    global counter, bestscore\n",
    "    counter +=1\n",
    "    hyperparams = {\n",
    "        #'num_leaves': int(params['num_leaves']),\n",
    "        'min_data_in_leaf': int(params['min_data_in_leaf']),\n",
    "        'min_child_weight': params['min_child_weight'],\n",
    "        #'n_estimators': int(params['n_estimators']),\n",
    "        'n_estimators':750,\n",
    "        'colsample_bytree': params['colsample_bytree'],\n",
    "        #'bagging_fraction': params['bagging_fraction'],\n",
    "        #'bagging_freq': params['bagging_freq'],\n",
    "        #'reg_alpha': params['reg_alpha'],\n",
    "        #'reg_lambda': params['reg_lambda'],\n",
    "        'max_depth':int(params['max_depth']),\n",
    "        #'learning_rate':params['learning_rate'],\n",
    "        'seed':0,\n",
    "        }\n",
    "    \n",
    "    #pca=PCA(n_components=int(params['pca_n_components']))\n",
    "    \n",
    "    gbm = lgb.LGBMRegressor(objective='regression', **hyperparams)\n",
    "\n",
    "    #pipe = [('scaler', scaler), ('pca', pca), ('gbm', gbm)]\n",
    "    #regpip = Pipeline(pipe)    \n",
    "    \n",
    "    score = cross_val_score(gbm, Xpca, y, scoring='neg_mean_squared_error', cv=kf, n_jobs=-2, verbose=0).mean()\n",
    "    #if counter%5 == 0:\n",
    "    #    print(\"{} - MSE {}\".format(counter, -score))\n",
    "    if -score < bestscore:\n",
    "        print(\"Attempt {} - MSE {} - params {}\".format(counter, -score, hyperparams))\n",
    "        print()\n",
    "        bestscore = -score\n",
    "    else:\n",
    "        print('Attempt {}'.format(counter))\n",
    "    return -score\n",
    "\n",
    "space = {\n",
    "    #'num_leaves': hp.uniform('num_leaves', 5, 40),\n",
    "    'min_data_in_leaf': hp.uniform('min_data_in_leaf',10, 40),\n",
    "    'min_child_weight': hp.loguniform('min_child_weight', -8, 2),\n",
    "    #'n_estimators': hp.uniform('n_estimators', 100, 5000),\n",
    "    'colsample_bytree': hp.uniform('colsample_bytree', 0., 1.0),\n",
    "    #'bagging_fraction': hp.uniform('bagging_fraction', 0., 1.0),\n",
    "    #'bagging_freq': hp.randint('bagging_freq', 15),\n",
    "    #'reg_alpha': hp.loguniform('reg_alpha', -3, 3),\n",
    "    #'reg_lambda': hp.loguniform('reg_lambda', -3, 3),\n",
    "    'max_depth': hp.uniform('max_depth', 3, 15),\n",
    "    #'learning_rate': hp.uniform('learning_rate', 0.0001, .1),\n",
    "    #'pca_n_components': hp.uniform('pca_n_components', 2500, 4734),\n",
    "}\n",
    "\n",
    "best = fmin(fn=objective,\n",
    "            space=space,\n",
    "            algo=tpe.suggest,\n",
    "            max_evals=200)"
   ]
  },
  {
   "cell_type": "code",
   "execution_count": null,
   "metadata": {},
   "outputs": [],
   "source": [
    "params = {\n",
    "        #'num_leaves': int(best['num_leaves']),\n",
    "        'min_data_in_leaf': int(best['min_data_in_leaf']),\n",
    "        'min_child_weight': best['min_child_weight'],\n",
    "        #'n_estimators': int(best['n_estimators']),\n",
    "        'n_estimators':750,\n",
    "        'colsample_bytree': best['colsample_bytree'],\n",
    "        'bagging_fraction': best['bagging_fraction'],\n",
    "        'bagging_freq': best['bagging_freq'],\n",
    "\n",
    "        #'reg_alpha': best['reg_alpha'],\n",
    "        #'reg_lambda': best['reg_lambda'],\n",
    "        'max_depth':int(best['max_depth']),\n",
    "        #'learning_rate':best['learning_rate'],\n",
    "        'seed':0,\n",
    "        }\n",
    "params"
   ]
  },
  {
   "cell_type": "code",
   "execution_count": 4,
   "metadata": {},
   "outputs": [
    {
     "data": {
      "text/plain": [
       "1.4608216865860117"
      ]
     },
     "execution_count": 4,
     "metadata": {},
     "output_type": "execute_result"
    }
   ],
   "source": [
    "2.134**.5"
   ]
  },
  {
   "cell_type": "code",
   "execution_count": 30,
   "metadata": {},
   "outputs": [],
   "source": [
    "hypergbm = lgb.LGBMRegressor(objective='regression', **params)"
   ]
  },
  {
   "cell_type": "code",
   "execution_count": 31,
   "metadata": {},
   "outputs": [
    {
     "data": {
      "text/plain": [
       "LGBMRegressor(bagging_fraction=0.8919931205120585, bagging_freq=1,\n",
       "       boosting_type='gbdt', class_weight=None,\n",
       "       colsample_bytree=0.09276695473201547, learning_rate=0.1,\n",
       "       max_depth=14, min_child_samples=20,\n",
       "       min_child_weight=0.01107885262086135, min_data_in_leaf=21,\n",
       "       min_split_gain=0.0, n_estimators=100, n_jobs=-1, num_leaves=31,\n",
       "       objective='regression', random_state=None, reg_alpha=0.0,\n",
       "       reg_lambda=0.0, seed=0, silent=True, subsample=1.0,\n",
       "       subsample_for_bin=200000, subsample_freq=1)"
      ]
     },
     "execution_count": 31,
     "metadata": {},
     "output_type": "execute_result"
    }
   ],
   "source": [
    "hypergbm.fit(X,y)"
   ]
  },
  {
   "cell_type": "code",
   "execution_count": 32,
   "metadata": {},
   "outputs": [],
   "source": [
    "Xtest = test[tokeep]"
   ]
  },
  {
   "cell_type": "code",
   "execution_count": 33,
   "metadata": {},
   "outputs": [],
   "source": [
    "preds = hypergbm.predict(Xtest)"
   ]
  },
  {
   "cell_type": "code",
   "execution_count": 34,
   "metadata": {},
   "outputs": [],
   "source": [
    "from scipy.special import inv_boxcox\n",
    "ytest = inv_boxcox(preds, lmbda)"
   ]
  },
  {
   "cell_type": "code",
   "execution_count": 35,
   "metadata": {},
   "outputs": [],
   "source": [
    "submission = pd.DataFrame({'target':ytest}, index=test.index)\n",
    "submission.to_csv('submission-2-LGBM.csv')"
   ]
  },
  {
   "cell_type": "code",
   "execution_count": null,
   "metadata": {},
   "outputs": [],
   "source": [
    "pd.read_csv('sample_submission.csv')"
   ]
  },
  {
   "cell_type": "code",
   "execution_count": null,
   "metadata": {},
   "outputs": [],
   "source": []
  },
  {
   "cell_type": "code",
   "execution_count": null,
   "metadata": {},
   "outputs": [],
   "source": [
    "#to keep for an other projet\n",
    "\n",
    "from scipy.special import inv_boxcox\n",
    "from scipy import stats\n",
    "\n",
    "class Boxcoxplus(BaseEstimator, TransformerMixin):\n",
    "    \"\"\"Apply a boxcox treatment on skewed features\"\"\"\n",
    "    def __init__(self, treshold=25):\n",
    "        self.treshold = treshold\n",
    "        self.lambdas = {}\n",
    "    \n",
    "    def fit(self, X, y=None):\n",
    "        df = pd.DataFrame({'columns':X.columns.values})\n",
    "        ## skew calculation\n",
    "        df['skew'] = df['columns'].apply(lambda x : X[x].skew())\n",
    "        subset = df[df['skew'] > self.treshold]\n",
    "        columns = subset['columns'].tolist()\n",
    "        \n",
    "        for column in columns:\n",
    "            #print(f'{column} will be BOXCOXed')\n",
    "            _, lmbda = stats.boxcox(X[column]+1)\n",
    "            self.lambdas[column] = lmbda\n",
    "        \n",
    "        return self\n",
    "    \n",
    "    def transform(self, X, y=None):\n",
    "        df = X.copy()\n",
    "        for column, lmbda in self.lambdas.items():\n",
    "            df[column] = stats.boxcox(X[column]+1, lmbda)\n",
    "        return df\n",
    "    \n",
    "    def inv_transform(self, X, y=None):\n",
    "        df = X.copy()\n",
    "        for column, lmbda in self.lambdas.items():\n",
    "            df[column] = inv_boxcox(X[column], lmbda)-1\n",
    "        return df\n",
    "\n",
    "boxcoxplus = Boxcoxplus(treshold=25)\n",
    "#boxcoxplus.fit(Xclean)\n",
    "\n",
    "Xboxcox = boxcoxplus.fit_transform(Xclean)\n",
    "\n",
    "\n",
    "#boxcoxplus.lambdas\n",
    "Xboxcox.head(10)"
   ]
  }
 ],
 "metadata": {
  "kernelspec": {
   "display_name": "Python 3",
   "language": "python",
   "name": "python3"
  },
  "language_info": {
   "codemirror_mode": {
    "name": "ipython",
    "version": 3
   },
   "file_extension": ".py",
   "mimetype": "text/x-python",
   "name": "python",
   "nbconvert_exporter": "python",
   "pygments_lexer": "ipython3",
   "version": "3.6.4"
  }
 },
 "nbformat": 4,
 "nbformat_minor": 2
}
